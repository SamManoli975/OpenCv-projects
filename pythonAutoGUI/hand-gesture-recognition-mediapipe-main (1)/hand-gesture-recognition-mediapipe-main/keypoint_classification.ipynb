{
 "cells": [
  {
   "cell_type": "code",
   "execution_count": 1,
   "metadata": {},
   "outputs": [
    {
     "name": "stdout",
     "output_type": "stream",
     "text": [
      "WARNING:tensorflow:From C:\\Users\\samma\\AppData\\Local\\Programs\\Python\\Python311\\Lib\\site-packages\\keras\\src\\losses.py:2976: The name tf.losses.sparse_softmax_cross_entropy is deprecated. Please use tf.compat.v1.losses.sparse_softmax_cross_entropy instead.\n",
      "\n"
     ]
    }
   ],
   "source": [
    "import csv\n",
    "\n",
    "import numpy as np\n",
    "import tensorflow as tf\n",
    "from sklearn.model_selection import train_test_split\n",
    "\n",
    "RANDOM_SEED = 42"
   ]
  },
  {
   "cell_type": "markdown",
   "metadata": {},
   "source": [
    "# 各パス指定"
   ]
  },
  {
   "cell_type": "code",
   "execution_count": 2,
   "metadata": {},
   "outputs": [],
   "source": [
    "dataset = 'C:\\VS CODE\\computer vision\\openCV\\BasicManipulation\\OpenCv-projects\\pythonAutoGUI\\hand-gesture-recognition-mediapipe-main (1)\\hand-gesture-recognition-mediapipe-main\\model\\keypoint_classifier/keypoint.csv'\n",
    "model_save_path = 'C:\\VS CODE\\computer vision\\openCV\\BasicManipulation\\OpenCv-projects\\pythonAutoGUI\\hand-gesture-recognition-mediapipe-main (1)\\hand-gesture-recognition-mediapipe-main\\model\\keypoint_classifier/keypoint_classifier.hdf5'"
   ]
  },
  {
   "cell_type": "markdown",
   "metadata": {},
   "source": [
    "# 分類数設定"
   ]
  },
  {
   "cell_type": "code",
   "execution_count": 3,
   "metadata": {},
   "outputs": [],
   "source": [
    "NUM_CLASSES = 7"
   ]
  },
  {
   "cell_type": "markdown",
   "metadata": {},
   "source": [
    "# 学習データ読み込み"
   ]
  },
  {
   "cell_type": "code",
   "execution_count": 4,
   "metadata": {},
   "outputs": [],
   "source": [
    "X_dataset = np.loadtxt(dataset, delimiter=',', dtype='float32', usecols=list(range(1, (21 * 2) + 1)))"
   ]
  },
  {
   "cell_type": "code",
   "execution_count": 5,
   "metadata": {},
   "outputs": [],
   "source": [
    "y_dataset = np.loadtxt(dataset, delimiter=',', dtype='int32', usecols=(0))"
   ]
  },
  {
   "cell_type": "code",
   "execution_count": 6,
   "metadata": {},
   "outputs": [],
   "source": [
    "X_train, X_test, y_train, y_test = train_test_split(X_dataset, y_dataset, train_size=0.75, random_state=RANDOM_SEED)"
   ]
  },
  {
   "cell_type": "markdown",
   "metadata": {},
   "source": [
    "# モデル構築"
   ]
  },
  {
   "cell_type": "code",
   "execution_count": 7,
   "metadata": {},
   "outputs": [
    {
     "name": "stdout",
     "output_type": "stream",
     "text": [
      "WARNING:tensorflow:From C:\\Users\\samma\\AppData\\Local\\Programs\\Python\\Python311\\Lib\\site-packages\\keras\\src\\backend.py:1398: The name tf.executing_eagerly_outside_functions is deprecated. Please use tf.compat.v1.executing_eagerly_outside_functions instead.\n",
      "\n"
     ]
    }
   ],
   "source": [
    "model = tf.keras.models.Sequential([\n",
    "    tf.keras.layers.Input((21 * 2, )),\n",
    "    tf.keras.layers.Dropout(0.2),\n",
    "    tf.keras.layers.Dense(20, activation='relu'),\n",
    "    tf.keras.layers.Dropout(0.4),\n",
    "    tf.keras.layers.Dense(10, activation='relu'),\n",
    "    tf.keras.layers.Dense(NUM_CLASSES, activation='softmax')\n",
    "])"
   ]
  },
  {
   "cell_type": "code",
   "execution_count": 8,
   "metadata": {},
   "outputs": [
    {
     "name": "stdout",
     "output_type": "stream",
     "text": [
      "Model: \"sequential\"\n",
      "_________________________________________________________________\n",
      " Layer (type)                Output Shape              Param #   \n",
      "=================================================================\n",
      " dropout (Dropout)           (None, 42)                0         \n",
      "                                                                 \n",
      " dense (Dense)               (None, 20)                860       \n",
      "                                                                 \n",
      " dropout_1 (Dropout)         (None, 20)                0         \n",
      "                                                                 \n",
      " dense_1 (Dense)             (None, 10)                210       \n",
      "                                                                 \n",
      " dense_2 (Dense)             (None, 7)                 77        \n",
      "                                                                 \n",
      "=================================================================\n",
      "Total params: 1147 (4.48 KB)\n",
      "Trainable params: 1147 (4.48 KB)\n",
      "Non-trainable params: 0 (0.00 Byte)\n",
      "_________________________________________________________________\n"
     ]
    }
   ],
   "source": [
    "model.summary()  # tf.keras.utils.plot_model(model, show_shapes=True)"
   ]
  },
  {
   "cell_type": "code",
   "execution_count": 9,
   "metadata": {},
   "outputs": [],
   "source": [
    "# モデルチェックポイントのコールバック\n",
    "cp_callback = tf.keras.callbacks.ModelCheckpoint(\n",
    "    model_save_path, verbose=1, save_weights_only=False)\n",
    "# 早期打ち切り用コールバック\n",
    "es_callback = tf.keras.callbacks.EarlyStopping(patience=20, verbose=1)"
   ]
  },
  {
   "cell_type": "code",
   "execution_count": 10,
   "metadata": {},
   "outputs": [
    {
     "name": "stdout",
     "output_type": "stream",
     "text": [
      "WARNING:tensorflow:From C:\\Users\\samma\\AppData\\Local\\Programs\\Python\\Python311\\Lib\\site-packages\\keras\\src\\optimizers\\__init__.py:309: The name tf.train.Optimizer is deprecated. Please use tf.compat.v1.train.Optimizer instead.\n",
      "\n"
     ]
    }
   ],
   "source": [
    "# モデルコンパイル\n",
    "model.compile(\n",
    "    optimizer='adam',\n",
    "    loss='sparse_categorical_crossentropy',\n",
    "    metrics=['accuracy']\n",
    ")"
   ]
  },
  {
   "cell_type": "markdown",
   "metadata": {},
   "source": [
    "# モデル訓練"
   ]
  },
  {
   "cell_type": "code",
   "execution_count": 11,
   "metadata": {
    "scrolled": true
   },
   "outputs": [
    {
     "name": "stdout",
     "output_type": "stream",
     "text": [
      "Epoch 1/1000\n",
      "WARNING:tensorflow:From C:\\Users\\samma\\AppData\\Local\\Programs\\Python\\Python311\\Lib\\site-packages\\keras\\src\\utils\\tf_utils.py:492: The name tf.ragged.RaggedTensorValue is deprecated. Please use tf.compat.v1.ragged.RaggedTensorValue instead.\n",
      "\n",
      "WARNING:tensorflow:From C:\\Users\\samma\\AppData\\Local\\Programs\\Python\\Python311\\Lib\\site-packages\\keras\\src\\engine\\base_layer_utils.py:384: The name tf.executing_eagerly_outside_functions is deprecated. Please use tf.compat.v1.executing_eagerly_outside_functions instead.\n",
      "\n",
      "28/31 [==========================>...] - ETA: 0s - loss: 1.8413 - accuracy: 0.2447\n",
      "Epoch 1: saving model to C:\\VS CODE\\computer vision\\openCV\\BasicManipulation\\OpenCv-projects\\pythonAutoGUI\\hand-gesture-recognition-mediapipe-main (1)\\hand-gesture-recognition-mediapipe-main\\model\\keypoint_classifier\\keypoint_classifier.hdf5\n",
      "31/31 [==============================] - 3s 25ms/step - loss: 1.8362 - accuracy: 0.2466 - val_loss: 1.7079 - val_accuracy: 0.3125\n",
      "Epoch 2/1000\n",
      "13/31 [===========>..................] - ETA: 0s - loss: 1.7121 - accuracy: 0.2951"
     ]
    },
    {
     "name": "stderr",
     "output_type": "stream",
     "text": [
      "C:\\Users\\samma\\AppData\\Local\\Programs\\Python\\Python311\\Lib\\site-packages\\keras\\src\\engine\\training.py:3103: UserWarning: You are saving your model as an HDF5 file via `model.save()`. This file format is considered legacy. We recommend using instead the native Keras format, e.g. `model.save('my_model.keras')`.\n",
      "  saving_api.save_model(\n"
     ]
    },
    {
     "name": "stdout",
     "output_type": "stream",
     "text": [
      "25/31 [=======================>......] - ETA: 0s - loss: 1.6961 - accuracy: 0.2962\n",
      "Epoch 2: saving model to C:\\VS CODE\\computer vision\\openCV\\BasicManipulation\\OpenCv-projects\\pythonAutoGUI\\hand-gesture-recognition-mediapipe-main (1)\\hand-gesture-recognition-mediapipe-main\\model\\keypoint_classifier\\keypoint_classifier.hdf5\n",
      "31/31 [==============================] - 0s 9ms/step - loss: 1.6810 - accuracy: 0.3010 - val_loss: 1.5702 - val_accuracy: 0.3483\n",
      "Epoch 3/1000\n",
      "30/31 [============================>.] - ETA: 0s - loss: 1.5871 - accuracy: 0.3370\n",
      "Epoch 3: saving model to C:\\VS CODE\\computer vision\\openCV\\BasicManipulation\\OpenCv-projects\\pythonAutoGUI\\hand-gesture-recognition-mediapipe-main (1)\\hand-gesture-recognition-mediapipe-main\\model\\keypoint_classifier\\keypoint_classifier.hdf5\n",
      "31/31 [==============================] - 0s 8ms/step - loss: 1.5877 - accuracy: 0.3360 - val_loss: 1.4741 - val_accuracy: 0.4093\n",
      "Epoch 4/1000\n",
      "28/31 [==========================>...] - ETA: 0s - loss: 1.5203 - accuracy: 0.3493\n",
      "Epoch 4: saving model to C:\\VS CODE\\computer vision\\openCV\\BasicManipulation\\OpenCv-projects\\pythonAutoGUI\\hand-gesture-recognition-mediapipe-main (1)\\hand-gesture-recognition-mediapipe-main\\model\\keypoint_classifier\\keypoint_classifier.hdf5\n",
      "31/31 [==============================] - 0s 8ms/step - loss: 1.5185 - accuracy: 0.3495 - val_loss: 1.3977 - val_accuracy: 0.4550\n",
      "Epoch 5/1000\n",
      "29/31 [===========================>..] - ETA: 0s - loss: 1.4517 - accuracy: 0.3949\n",
      "Epoch 5: saving model to C:\\VS CODE\\computer vision\\openCV\\BasicManipulation\\OpenCv-projects\\pythonAutoGUI\\hand-gesture-recognition-mediapipe-main (1)\\hand-gesture-recognition-mediapipe-main\\model\\keypoint_classifier\\keypoint_classifier.hdf5\n",
      "31/31 [==============================] - 0s 9ms/step - loss: 1.4513 - accuracy: 0.3973 - val_loss: 1.3334 - val_accuracy: 0.5389\n",
      "Epoch 6/1000\n",
      "25/31 [=======================>......] - ETA: 0s - loss: 1.4105 - accuracy: 0.4294\n",
      "Epoch 6: saving model to C:\\VS CODE\\computer vision\\openCV\\BasicManipulation\\OpenCv-projects\\pythonAutoGUI\\hand-gesture-recognition-mediapipe-main (1)\\hand-gesture-recognition-mediapipe-main\\model\\keypoint_classifier\\keypoint_classifier.hdf5\n",
      "31/31 [==============================] - 0s 9ms/step - loss: 1.4059 - accuracy: 0.4296 - val_loss: 1.2782 - val_accuracy: 0.5907\n",
      "Epoch 7/1000\n",
      "28/31 [==========================>...] - ETA: 0s - loss: 1.3581 - accuracy: 0.4601\n",
      "Epoch 7: saving model to C:\\VS CODE\\computer vision\\openCV\\BasicManipulation\\OpenCv-projects\\pythonAutoGUI\\hand-gesture-recognition-mediapipe-main (1)\\hand-gesture-recognition-mediapipe-main\\model\\keypoint_classifier\\keypoint_classifier.hdf5\n",
      "31/31 [==============================] - 0s 9ms/step - loss: 1.3585 - accuracy: 0.4614 - val_loss: 1.2182 - val_accuracy: 0.6090\n",
      "Epoch 8/1000\n",
      "27/31 [=========================>....] - ETA: 0s - loss: 1.3413 - accuracy: 0.4676\n",
      "Epoch 8: saving model to C:\\VS CODE\\computer vision\\openCV\\BasicManipulation\\OpenCv-projects\\pythonAutoGUI\\hand-gesture-recognition-mediapipe-main (1)\\hand-gesture-recognition-mediapipe-main\\model\\keypoint_classifier\\keypoint_classifier.hdf5\n",
      "31/31 [==============================] - 0s 8ms/step - loss: 1.3363 - accuracy: 0.4657 - val_loss: 1.1727 - val_accuracy: 0.6204\n",
      "Epoch 9/1000\n",
      "22/31 [====================>.........] - ETA: 0s - loss: 1.3012 - accuracy: 0.4805\n",
      "Epoch 9: saving model to C:\\VS CODE\\computer vision\\openCV\\BasicManipulation\\OpenCv-projects\\pythonAutoGUI\\hand-gesture-recognition-mediapipe-main (1)\\hand-gesture-recognition-mediapipe-main\\model\\keypoint_classifier\\keypoint_classifier.hdf5\n",
      "31/31 [==============================] - 0s 9ms/step - loss: 1.2912 - accuracy: 0.4863 - val_loss: 1.1233 - val_accuracy: 0.6585\n",
      "Epoch 10/1000\n",
      "28/31 [==========================>...] - ETA: 0s - loss: 1.2674 - accuracy: 0.4941\n",
      "Epoch 10: saving model to C:\\VS CODE\\computer vision\\openCV\\BasicManipulation\\OpenCv-projects\\pythonAutoGUI\\hand-gesture-recognition-mediapipe-main (1)\\hand-gesture-recognition-mediapipe-main\\model\\keypoint_classifier\\keypoint_classifier.hdf5\n",
      "31/31 [==============================] - 0s 9ms/step - loss: 1.2668 - accuracy: 0.4921 - val_loss: 1.0735 - val_accuracy: 0.6799\n",
      "Epoch 11/1000\n",
      "28/31 [==========================>...] - ETA: 0s - loss: 1.2174 - accuracy: 0.5254\n",
      "Epoch 11: saving model to C:\\VS CODE\\computer vision\\openCV\\BasicManipulation\\OpenCv-projects\\pythonAutoGUI\\hand-gesture-recognition-mediapipe-main (1)\\hand-gesture-recognition-mediapipe-main\\model\\keypoint_classifier\\keypoint_classifier.hdf5\n",
      "31/31 [==============================] - 0s 9ms/step - loss: 1.2146 - accuracy: 0.5275 - val_loss: 1.0201 - val_accuracy: 0.7515\n",
      "Epoch 12/1000\n",
      "28/31 [==========================>...] - ETA: 0s - loss: 1.1954 - accuracy: 0.5340\n",
      "Epoch 12: saving model to C:\\VS CODE\\computer vision\\openCV\\BasicManipulation\\OpenCv-projects\\pythonAutoGUI\\hand-gesture-recognition-mediapipe-main (1)\\hand-gesture-recognition-mediapipe-main\\model\\keypoint_classifier\\keypoint_classifier.hdf5\n",
      "31/31 [==============================] - 0s 8ms/step - loss: 1.1978 - accuracy: 0.5341 - val_loss: 0.9774 - val_accuracy: 0.7607\n",
      "Epoch 13/1000\n",
      "28/31 [==========================>...] - ETA: 0s - loss: 1.1531 - accuracy: 0.5516\n",
      "Epoch 13: saving model to C:\\VS CODE\\computer vision\\openCV\\BasicManipulation\\OpenCv-projects\\pythonAutoGUI\\hand-gesture-recognition-mediapipe-main (1)\\hand-gesture-recognition-mediapipe-main\\model\\keypoint_classifier\\keypoint_classifier.hdf5\n",
      "31/31 [==============================] - 0s 9ms/step - loss: 1.1509 - accuracy: 0.5554 - val_loss: 0.9293 - val_accuracy: 0.7668\n",
      "Epoch 14/1000\n",
      "26/31 [========================>.....] - ETA: 0s - loss: 1.1529 - accuracy: 0.5556\n",
      "Epoch 14: saving model to C:\\VS CODE\\computer vision\\openCV\\BasicManipulation\\OpenCv-projects\\pythonAutoGUI\\hand-gesture-recognition-mediapipe-main (1)\\hand-gesture-recognition-mediapipe-main\\model\\keypoint_classifier\\keypoint_classifier.hdf5\n",
      "31/31 [==============================] - 0s 8ms/step - loss: 1.1418 - accuracy: 0.5590 - val_loss: 0.8912 - val_accuracy: 0.7851\n",
      "Epoch 15/1000\n",
      "27/31 [=========================>....] - ETA: 0s - loss: 1.0979 - accuracy: 0.5773\n",
      "Epoch 15: saving model to C:\\VS CODE\\computer vision\\openCV\\BasicManipulation\\OpenCv-projects\\pythonAutoGUI\\hand-gesture-recognition-mediapipe-main (1)\\hand-gesture-recognition-mediapipe-main\\model\\keypoint_classifier\\keypoint_classifier.hdf5\n",
      "31/31 [==============================] - 0s 9ms/step - loss: 1.1016 - accuracy: 0.5717 - val_loss: 0.8478 - val_accuracy: 0.7889\n",
      "Epoch 16/1000\n",
      "29/31 [===========================>..] - ETA: 0s - loss: 1.0925 - accuracy: 0.5835\n",
      "Epoch 16: saving model to C:\\VS CODE\\computer vision\\openCV\\BasicManipulation\\OpenCv-projects\\pythonAutoGUI\\hand-gesture-recognition-mediapipe-main (1)\\hand-gesture-recognition-mediapipe-main\\model\\keypoint_classifier\\keypoint_classifier.hdf5\n",
      "31/31 [==============================] - 0s 8ms/step - loss: 1.0935 - accuracy: 0.5834 - val_loss: 0.8124 - val_accuracy: 0.7790\n",
      "Epoch 17/1000\n",
      "29/31 [===========================>..] - ETA: 0s - loss: 1.0854 - accuracy: 0.5905\n",
      "Epoch 17: saving model to C:\\VS CODE\\computer vision\\openCV\\BasicManipulation\\OpenCv-projects\\pythonAutoGUI\\hand-gesture-recognition-mediapipe-main (1)\\hand-gesture-recognition-mediapipe-main\\model\\keypoint_classifier\\keypoint_classifier.hdf5\n",
      "31/31 [==============================] - 0s 9ms/step - loss: 1.0740 - accuracy: 0.5943 - val_loss: 0.7854 - val_accuracy: 0.8095\n",
      "Epoch 18/1000\n",
      "30/31 [============================>.] - ETA: 0s - loss: 1.0448 - accuracy: 0.6042\n",
      "Epoch 18: saving model to C:\\VS CODE\\computer vision\\openCV\\BasicManipulation\\OpenCv-projects\\pythonAutoGUI\\hand-gesture-recognition-mediapipe-main (1)\\hand-gesture-recognition-mediapipe-main\\model\\keypoint_classifier\\keypoint_classifier.hdf5\n",
      "31/31 [==============================] - 0s 8ms/step - loss: 1.0468 - accuracy: 0.6037 - val_loss: 0.7494 - val_accuracy: 0.8262\n",
      "Epoch 19/1000\n",
      "28/31 [==========================>...] - ETA: 0s - loss: 1.0419 - accuracy: 0.6018\n",
      "Epoch 19: saving model to C:\\VS CODE\\computer vision\\openCV\\BasicManipulation\\OpenCv-projects\\pythonAutoGUI\\hand-gesture-recognition-mediapipe-main (1)\\hand-gesture-recognition-mediapipe-main\\model\\keypoint_classifier\\keypoint_classifier.hdf5\n",
      "31/31 [==============================] - 0s 8ms/step - loss: 1.0332 - accuracy: 0.6085 - val_loss: 0.7335 - val_accuracy: 0.8239\n",
      "Epoch 20/1000\n",
      "29/31 [===========================>..] - ETA: 0s - loss: 1.0362 - accuracy: 0.5991\n",
      "Epoch 20: saving model to C:\\VS CODE\\computer vision\\openCV\\BasicManipulation\\OpenCv-projects\\pythonAutoGUI\\hand-gesture-recognition-mediapipe-main (1)\\hand-gesture-recognition-mediapipe-main\\model\\keypoint_classifier\\keypoint_classifier.hdf5\n",
      "31/31 [==============================] - 0s 9ms/step - loss: 1.0343 - accuracy: 0.6014 - val_loss: 0.7204 - val_accuracy: 0.8262\n",
      "Epoch 21/1000\n",
      "30/31 [============================>.] - ETA: 0s - loss: 1.0046 - accuracy: 0.6182\n",
      "Epoch 21: saving model to C:\\VS CODE\\computer vision\\openCV\\BasicManipulation\\OpenCv-projects\\pythonAutoGUI\\hand-gesture-recognition-mediapipe-main (1)\\hand-gesture-recognition-mediapipe-main\\model\\keypoint_classifier\\keypoint_classifier.hdf5\n",
      "31/31 [==============================] - 0s 8ms/step - loss: 1.0048 - accuracy: 0.6172 - val_loss: 0.6930 - val_accuracy: 0.8407\n",
      "Epoch 22/1000\n",
      "24/31 [======================>.......] - ETA: 0s - loss: 1.0005 - accuracy: 0.6182\n",
      "Epoch 22: saving model to C:\\VS CODE\\computer vision\\openCV\\BasicManipulation\\OpenCv-projects\\pythonAutoGUI\\hand-gesture-recognition-mediapipe-main (1)\\hand-gesture-recognition-mediapipe-main\\model\\keypoint_classifier\\keypoint_classifier.hdf5\n",
      "31/31 [==============================] - 0s 9ms/step - loss: 0.9898 - accuracy: 0.6213 - val_loss: 0.6669 - val_accuracy: 0.8514\n",
      "Epoch 23/1000\n",
      "27/31 [=========================>....] - ETA: 0s - loss: 1.0092 - accuracy: 0.6105\n",
      "Epoch 23: saving model to C:\\VS CODE\\computer vision\\openCV\\BasicManipulation\\OpenCv-projects\\pythonAutoGUI\\hand-gesture-recognition-mediapipe-main (1)\\hand-gesture-recognition-mediapipe-main\\model\\keypoint_classifier\\keypoint_classifier.hdf5\n",
      "31/31 [==============================] - 0s 8ms/step - loss: 1.0044 - accuracy: 0.6116 - val_loss: 0.6632 - val_accuracy: 0.8483\n",
      "Epoch 24/1000\n",
      "30/31 [============================>.] - ETA: 0s - loss: 0.9634 - accuracy: 0.6375\n",
      "Epoch 24: saving model to C:\\VS CODE\\computer vision\\openCV\\BasicManipulation\\OpenCv-projects\\pythonAutoGUI\\hand-gesture-recognition-mediapipe-main (1)\\hand-gesture-recognition-mediapipe-main\\model\\keypoint_classifier\\keypoint_classifier.hdf5\n",
      "31/31 [==============================] - 0s 8ms/step - loss: 0.9625 - accuracy: 0.6373 - val_loss: 0.6417 - val_accuracy: 0.8422\n",
      "Epoch 25/1000\n",
      "28/31 [==========================>...] - ETA: 0s - loss: 0.9486 - accuracy: 0.6328\n",
      "Epoch 25: saving model to C:\\VS CODE\\computer vision\\openCV\\BasicManipulation\\OpenCv-projects\\pythonAutoGUI\\hand-gesture-recognition-mediapipe-main (1)\\hand-gesture-recognition-mediapipe-main\\model\\keypoint_classifier\\keypoint_classifier.hdf5\n",
      "31/31 [==============================] - 0s 9ms/step - loss: 0.9508 - accuracy: 0.6329 - val_loss: 0.6204 - val_accuracy: 0.8567\n",
      "Epoch 26/1000\n",
      "30/31 [============================>.] - ETA: 0s - loss: 0.9427 - accuracy: 0.6451\n",
      "Epoch 26: saving model to C:\\VS CODE\\computer vision\\openCV\\BasicManipulation\\OpenCv-projects\\pythonAutoGUI\\hand-gesture-recognition-mediapipe-main (1)\\hand-gesture-recognition-mediapipe-main\\model\\keypoint_classifier\\keypoint_classifier.hdf5\n",
      "31/31 [==============================] - 0s 8ms/step - loss: 0.9454 - accuracy: 0.6421 - val_loss: 0.5987 - val_accuracy: 0.8552\n",
      "Epoch 27/1000\n",
      "26/31 [========================>.....] - ETA: 0s - loss: 0.9462 - accuracy: 0.6484\n",
      "Epoch 27: saving model to C:\\VS CODE\\computer vision\\openCV\\BasicManipulation\\OpenCv-projects\\pythonAutoGUI\\hand-gesture-recognition-mediapipe-main (1)\\hand-gesture-recognition-mediapipe-main\\model\\keypoint_classifier\\keypoint_classifier.hdf5\n",
      "31/31 [==============================] - 0s 8ms/step - loss: 0.9459 - accuracy: 0.6457 - val_loss: 0.5981 - val_accuracy: 0.8483\n",
      "Epoch 28/1000\n",
      "29/31 [===========================>..] - ETA: 0s - loss: 0.9240 - accuracy: 0.6476\n",
      "Epoch 28: saving model to C:\\VS CODE\\computer vision\\openCV\\BasicManipulation\\OpenCv-projects\\pythonAutoGUI\\hand-gesture-recognition-mediapipe-main (1)\\hand-gesture-recognition-mediapipe-main\\model\\keypoint_classifier\\keypoint_classifier.hdf5\n",
      "31/31 [==============================] - 0s 9ms/step - loss: 0.9210 - accuracy: 0.6479 - val_loss: 0.5796 - val_accuracy: 0.8590\n",
      "Epoch 29/1000\n",
      "26/31 [========================>.....] - ETA: 0s - loss: 0.9019 - accuracy: 0.6541\n",
      "Epoch 29: saving model to C:\\VS CODE\\computer vision\\openCV\\BasicManipulation\\OpenCv-projects\\pythonAutoGUI\\hand-gesture-recognition-mediapipe-main (1)\\hand-gesture-recognition-mediapipe-main\\model\\keypoint_classifier\\keypoint_classifier.hdf5\n",
      "31/31 [==============================] - 0s 9ms/step - loss: 0.9039 - accuracy: 0.6551 - val_loss: 0.5679 - val_accuracy: 0.8598\n",
      "Epoch 30/1000\n",
      "29/31 [===========================>..] - ETA: 0s - loss: 0.9128 - accuracy: 0.6525\n",
      "Epoch 30: saving model to C:\\VS CODE\\computer vision\\openCV\\BasicManipulation\\OpenCv-projects\\pythonAutoGUI\\hand-gesture-recognition-mediapipe-main (1)\\hand-gesture-recognition-mediapipe-main\\model\\keypoint_classifier\\keypoint_classifier.hdf5\n",
      "31/31 [==============================] - 0s 8ms/step - loss: 0.9130 - accuracy: 0.6518 - val_loss: 0.5525 - val_accuracy: 0.8605\n",
      "Epoch 31/1000\n",
      "26/31 [========================>.....] - ETA: 0s - loss: 0.9008 - accuracy: 0.6635\n",
      "Epoch 31: saving model to C:\\VS CODE\\computer vision\\openCV\\BasicManipulation\\OpenCv-projects\\pythonAutoGUI\\hand-gesture-recognition-mediapipe-main (1)\\hand-gesture-recognition-mediapipe-main\\model\\keypoint_classifier\\keypoint_classifier.hdf5\n",
      "31/31 [==============================] - 0s 8ms/step - loss: 0.8956 - accuracy: 0.6655 - val_loss: 0.5445 - val_accuracy: 0.8605\n",
      "Epoch 32/1000\n",
      "17/31 [===============>..............] - ETA: 0s - loss: 0.9465 - accuracy: 0.6411\n",
      "Epoch 32: saving model to C:\\VS CODE\\computer vision\\openCV\\BasicManipulation\\OpenCv-projects\\pythonAutoGUI\\hand-gesture-recognition-mediapipe-main (1)\\hand-gesture-recognition-mediapipe-main\\model\\keypoint_classifier\\keypoint_classifier.hdf5\n",
      "31/31 [==============================] - 0s 9ms/step - loss: 0.9230 - accuracy: 0.6497 - val_loss: 0.5496 - val_accuracy: 0.8552\n",
      "Epoch 33/1000\n",
      "27/31 [=========================>....] - ETA: 0s - loss: 0.8932 - accuracy: 0.6551\n",
      "Epoch 33: saving model to C:\\VS CODE\\computer vision\\openCV\\BasicManipulation\\OpenCv-projects\\pythonAutoGUI\\hand-gesture-recognition-mediapipe-main (1)\\hand-gesture-recognition-mediapipe-main\\model\\keypoint_classifier\\keypoint_classifier.hdf5\n",
      "31/31 [==============================] - 0s 9ms/step - loss: 0.8916 - accuracy: 0.6553 - val_loss: 0.5391 - val_accuracy: 0.8582\n",
      "Epoch 34/1000\n",
      "31/31 [==============================] - ETA: 0s - loss: 0.8856 - accuracy: 0.6619\n",
      "Epoch 34: saving model to C:\\VS CODE\\computer vision\\openCV\\BasicManipulation\\OpenCv-projects\\pythonAutoGUI\\hand-gesture-recognition-mediapipe-main (1)\\hand-gesture-recognition-mediapipe-main\\model\\keypoint_classifier\\keypoint_classifier.hdf5\n",
      "31/31 [==============================] - 0s 9ms/step - loss: 0.8856 - accuracy: 0.6619 - val_loss: 0.5222 - val_accuracy: 0.8643\n",
      "Epoch 35/1000\n",
      "25/31 [=======================>......] - ETA: 0s - loss: 0.8495 - accuracy: 0.6747\n",
      "Epoch 35: saving model to C:\\VS CODE\\computer vision\\openCV\\BasicManipulation\\OpenCv-projects\\pythonAutoGUI\\hand-gesture-recognition-mediapipe-main (1)\\hand-gesture-recognition-mediapipe-main\\model\\keypoint_classifier\\keypoint_classifier.hdf5\n",
      "31/31 [==============================] - 0s 10ms/step - loss: 0.8575 - accuracy: 0.6749 - val_loss: 0.5146 - val_accuracy: 0.8598\n",
      "Epoch 36/1000\n",
      "26/31 [========================>.....] - ETA: 0s - loss: 0.8662 - accuracy: 0.6677\n",
      "Epoch 36: saving model to C:\\VS CODE\\computer vision\\openCV\\BasicManipulation\\OpenCv-projects\\pythonAutoGUI\\hand-gesture-recognition-mediapipe-main (1)\\hand-gesture-recognition-mediapipe-main\\model\\keypoint_classifier\\keypoint_classifier.hdf5\n",
      "31/31 [==============================] - 0s 9ms/step - loss: 0.8695 - accuracy: 0.6685 - val_loss: 0.5100 - val_accuracy: 0.8620\n",
      "Epoch 37/1000\n",
      "19/31 [=================>............] - ETA: 0s - loss: 0.8493 - accuracy: 0.6768\n",
      "Epoch 37: saving model to C:\\VS CODE\\computer vision\\openCV\\BasicManipulation\\OpenCv-projects\\pythonAutoGUI\\hand-gesture-recognition-mediapipe-main (1)\\hand-gesture-recognition-mediapipe-main\\model\\keypoint_classifier\\keypoint_classifier.hdf5\n",
      "31/31 [==============================] - 0s 11ms/step - loss: 0.8602 - accuracy: 0.6774 - val_loss: 0.5046 - val_accuracy: 0.8559\n",
      "Epoch 38/1000\n",
      "24/31 [======================>.......] - ETA: 0s - loss: 0.8625 - accuracy: 0.6761\n",
      "Epoch 38: saving model to C:\\VS CODE\\computer vision\\openCV\\BasicManipulation\\OpenCv-projects\\pythonAutoGUI\\hand-gesture-recognition-mediapipe-main (1)\\hand-gesture-recognition-mediapipe-main\\model\\keypoint_classifier\\keypoint_classifier.hdf5\n",
      "31/31 [==============================] - 0s 9ms/step - loss: 0.8474 - accuracy: 0.6825 - val_loss: 0.4955 - val_accuracy: 0.8697\n",
      "Epoch 39/1000\n",
      "26/31 [========================>.....] - ETA: 0s - loss: 0.8522 - accuracy: 0.6824\n",
      "Epoch 39: saving model to C:\\VS CODE\\computer vision\\openCV\\BasicManipulation\\OpenCv-projects\\pythonAutoGUI\\hand-gesture-recognition-mediapipe-main (1)\\hand-gesture-recognition-mediapipe-main\\model\\keypoint_classifier\\keypoint_classifier.hdf5\n",
      "31/31 [==============================] - 0s 9ms/step - loss: 0.8525 - accuracy: 0.6797 - val_loss: 0.4883 - val_accuracy: 0.8788\n",
      "Epoch 40/1000\n",
      "29/31 [===========================>..] - ETA: 0s - loss: 0.8354 - accuracy: 0.6832\n",
      "Epoch 40: saving model to C:\\VS CODE\\computer vision\\openCV\\BasicManipulation\\OpenCv-projects\\pythonAutoGUI\\hand-gesture-recognition-mediapipe-main (1)\\hand-gesture-recognition-mediapipe-main\\model\\keypoint_classifier\\keypoint_classifier.hdf5\n",
      "31/31 [==============================] - 0s 8ms/step - loss: 0.8365 - accuracy: 0.6815 - val_loss: 0.4813 - val_accuracy: 0.8841\n",
      "Epoch 41/1000\n",
      "26/31 [========================>.....] - ETA: 0s - loss: 0.8412 - accuracy: 0.6809\n",
      "Epoch 41: saving model to C:\\VS CODE\\computer vision\\openCV\\BasicManipulation\\OpenCv-projects\\pythonAutoGUI\\hand-gesture-recognition-mediapipe-main (1)\\hand-gesture-recognition-mediapipe-main\\model\\keypoint_classifier\\keypoint_classifier.hdf5\n",
      "31/31 [==============================] - 0s 9ms/step - loss: 0.8463 - accuracy: 0.6802 - val_loss: 0.4813 - val_accuracy: 0.8796\n",
      "Epoch 42/1000\n",
      "30/31 [============================>.] - ETA: 0s - loss: 0.8318 - accuracy: 0.6844\n",
      "Epoch 42: saving model to C:\\VS CODE\\computer vision\\openCV\\BasicManipulation\\OpenCv-projects\\pythonAutoGUI\\hand-gesture-recognition-mediapipe-main (1)\\hand-gesture-recognition-mediapipe-main\\model\\keypoint_classifier\\keypoint_classifier.hdf5\n",
      "31/31 [==============================] - 0s 14ms/step - loss: 0.8300 - accuracy: 0.6851 - val_loss: 0.4720 - val_accuracy: 0.8780\n",
      "Epoch 43/1000\n",
      "28/31 [==========================>...] - ETA: 0s - loss: 0.8225 - accuracy: 0.6953\n",
      "Epoch 43: saving model to C:\\VS CODE\\computer vision\\openCV\\BasicManipulation\\OpenCv-projects\\pythonAutoGUI\\hand-gesture-recognition-mediapipe-main (1)\\hand-gesture-recognition-mediapipe-main\\model\\keypoint_classifier\\keypoint_classifier.hdf5\n",
      "31/31 [==============================] - 1s 20ms/step - loss: 0.8238 - accuracy: 0.6945 - val_loss: 0.4709 - val_accuracy: 0.8819\n",
      "Epoch 44/1000\n",
      "30/31 [============================>.] - ETA: 0s - loss: 0.8133 - accuracy: 0.7047\n",
      "Epoch 44: saving model to C:\\VS CODE\\computer vision\\openCV\\BasicManipulation\\OpenCv-projects\\pythonAutoGUI\\hand-gesture-recognition-mediapipe-main (1)\\hand-gesture-recognition-mediapipe-main\\model\\keypoint_classifier\\keypoint_classifier.hdf5\n",
      "31/31 [==============================] - 0s 11ms/step - loss: 0.8148 - accuracy: 0.7044 - val_loss: 0.4569 - val_accuracy: 0.8880\n",
      "Epoch 45/1000\n",
      "25/31 [=======================>......] - ETA: 0s - loss: 0.8028 - accuracy: 0.6972\n",
      "Epoch 45: saving model to C:\\VS CODE\\computer vision\\openCV\\BasicManipulation\\OpenCv-projects\\pythonAutoGUI\\hand-gesture-recognition-mediapipe-main (1)\\hand-gesture-recognition-mediapipe-main\\model\\keypoint_classifier\\keypoint_classifier.hdf5\n",
      "31/31 [==============================] - 0s 10ms/step - loss: 0.7952 - accuracy: 0.7028 - val_loss: 0.4552 - val_accuracy: 0.8880\n",
      "Epoch 46/1000\n",
      "25/31 [=======================>......] - ETA: 0s - loss: 0.7947 - accuracy: 0.7100\n",
      "Epoch 46: saving model to C:\\VS CODE\\computer vision\\openCV\\BasicManipulation\\OpenCv-projects\\pythonAutoGUI\\hand-gesture-recognition-mediapipe-main (1)\\hand-gesture-recognition-mediapipe-main\\model\\keypoint_classifier\\keypoint_classifier.hdf5\n",
      "31/31 [==============================] - 0s 10ms/step - loss: 0.8020 - accuracy: 0.7046 - val_loss: 0.4497 - val_accuracy: 0.8773\n",
      "Epoch 47/1000\n",
      "24/31 [======================>.......] - ETA: 0s - loss: 0.8181 - accuracy: 0.6868\n",
      "Epoch 47: saving model to C:\\VS CODE\\computer vision\\openCV\\BasicManipulation\\OpenCv-projects\\pythonAutoGUI\\hand-gesture-recognition-mediapipe-main (1)\\hand-gesture-recognition-mediapipe-main\\model\\keypoint_classifier\\keypoint_classifier.hdf5\n",
      "31/31 [==============================] - 0s 10ms/step - loss: 0.8205 - accuracy: 0.6889 - val_loss: 0.4500 - val_accuracy: 0.8849\n",
      "Epoch 48/1000\n",
      "23/31 [=====================>........] - ETA: 0s - loss: 0.7879 - accuracy: 0.7035\n",
      "Epoch 48: saving model to C:\\VS CODE\\computer vision\\openCV\\BasicManipulation\\OpenCv-projects\\pythonAutoGUI\\hand-gesture-recognition-mediapipe-main (1)\\hand-gesture-recognition-mediapipe-main\\model\\keypoint_classifier\\keypoint_classifier.hdf5\n",
      "31/31 [==============================] - 0s 11ms/step - loss: 0.7927 - accuracy: 0.7034 - val_loss: 0.4339 - val_accuracy: 0.8887\n",
      "Epoch 49/1000\n",
      "23/31 [=====================>........] - ETA: 0s - loss: 0.7910 - accuracy: 0.7038\n",
      "Epoch 49: saving model to C:\\VS CODE\\computer vision\\openCV\\BasicManipulation\\OpenCv-projects\\pythonAutoGUI\\hand-gesture-recognition-mediapipe-main (1)\\hand-gesture-recognition-mediapipe-main\\model\\keypoint_classifier\\keypoint_classifier.hdf5\n",
      "31/31 [==============================] - 0s 11ms/step - loss: 0.7952 - accuracy: 0.6978 - val_loss: 0.4341 - val_accuracy: 0.8872\n",
      "Epoch 50/1000\n",
      "25/31 [=======================>......] - ETA: 0s - loss: 0.7952 - accuracy: 0.7141\n",
      "Epoch 50: saving model to C:\\VS CODE\\computer vision\\openCV\\BasicManipulation\\OpenCv-projects\\pythonAutoGUI\\hand-gesture-recognition-mediapipe-main (1)\\hand-gesture-recognition-mediapipe-main\\model\\keypoint_classifier\\keypoint_classifier.hdf5\n",
      "31/31 [==============================] - 0s 9ms/step - loss: 0.7940 - accuracy: 0.7117 - val_loss: 0.4304 - val_accuracy: 0.8864\n",
      "Epoch 51/1000\n",
      "25/31 [=======================>......] - ETA: 0s - loss: 0.7929 - accuracy: 0.6956\n",
      "Epoch 51: saving model to C:\\VS CODE\\computer vision\\openCV\\BasicManipulation\\OpenCv-projects\\pythonAutoGUI\\hand-gesture-recognition-mediapipe-main (1)\\hand-gesture-recognition-mediapipe-main\\model\\keypoint_classifier\\keypoint_classifier.hdf5\n",
      "31/31 [==============================] - 0s 11ms/step - loss: 0.8049 - accuracy: 0.6929 - val_loss: 0.4288 - val_accuracy: 0.8971\n",
      "Epoch 52/1000\n",
      "28/31 [==========================>...] - ETA: 0s - loss: 0.7918 - accuracy: 0.7081\n",
      "Epoch 52: saving model to C:\\VS CODE\\computer vision\\openCV\\BasicManipulation\\OpenCv-projects\\pythonAutoGUI\\hand-gesture-recognition-mediapipe-main (1)\\hand-gesture-recognition-mediapipe-main\\model\\keypoint_classifier\\keypoint_classifier.hdf5\n",
      "31/31 [==============================] - 0s 11ms/step - loss: 0.7913 - accuracy: 0.7072 - val_loss: 0.4280 - val_accuracy: 0.8941\n",
      "Epoch 53/1000\n",
      "26/31 [========================>.....] - ETA: 0s - loss: 0.7790 - accuracy: 0.7118\n",
      "Epoch 53: saving model to C:\\VS CODE\\computer vision\\openCV\\BasicManipulation\\OpenCv-projects\\pythonAutoGUI\\hand-gesture-recognition-mediapipe-main (1)\\hand-gesture-recognition-mediapipe-main\\model\\keypoint_classifier\\keypoint_classifier.hdf5\n",
      "31/31 [==============================] - 0s 10ms/step - loss: 0.7757 - accuracy: 0.7107 - val_loss: 0.4227 - val_accuracy: 0.8979\n",
      "Epoch 54/1000\n",
      "24/31 [======================>.......] - ETA: 0s - loss: 0.7685 - accuracy: 0.7080\n",
      "Epoch 54: saving model to C:\\VS CODE\\computer vision\\openCV\\BasicManipulation\\OpenCv-projects\\pythonAutoGUI\\hand-gesture-recognition-mediapipe-main (1)\\hand-gesture-recognition-mediapipe-main\\model\\keypoint_classifier\\keypoint_classifier.hdf5\n",
      "31/31 [==============================] - 0s 11ms/step - loss: 0.7686 - accuracy: 0.7110 - val_loss: 0.4089 - val_accuracy: 0.9009\n",
      "Epoch 55/1000\n",
      "23/31 [=====================>........] - ETA: 0s - loss: 0.7731 - accuracy: 0.7123\n",
      "Epoch 55: saving model to C:\\VS CODE\\computer vision\\openCV\\BasicManipulation\\OpenCv-projects\\pythonAutoGUI\\hand-gesture-recognition-mediapipe-main (1)\\hand-gesture-recognition-mediapipe-main\\model\\keypoint_classifier\\keypoint_classifier.hdf5\n",
      "31/31 [==============================] - 0s 12ms/step - loss: 0.7723 - accuracy: 0.7150 - val_loss: 0.4129 - val_accuracy: 0.8979\n",
      "Epoch 56/1000\n",
      "22/31 [====================>.........] - ETA: 0s - loss: 0.7877 - accuracy: 0.7035\n",
      "Epoch 56: saving model to C:\\VS CODE\\computer vision\\openCV\\BasicManipulation\\OpenCv-projects\\pythonAutoGUI\\hand-gesture-recognition-mediapipe-main (1)\\hand-gesture-recognition-mediapipe-main\\model\\keypoint_classifier\\keypoint_classifier.hdf5\n",
      "31/31 [==============================] - 0s 10ms/step - loss: 0.7908 - accuracy: 0.7056 - val_loss: 0.4137 - val_accuracy: 0.8895\n",
      "Epoch 57/1000\n",
      "23/31 [=====================>........] - ETA: 0s - loss: 0.7741 - accuracy: 0.7120\n",
      "Epoch 57: saving model to C:\\VS CODE\\computer vision\\openCV\\BasicManipulation\\OpenCv-projects\\pythonAutoGUI\\hand-gesture-recognition-mediapipe-main (1)\\hand-gesture-recognition-mediapipe-main\\model\\keypoint_classifier\\keypoint_classifier.hdf5\n",
      "31/31 [==============================] - 0s 11ms/step - loss: 0.7725 - accuracy: 0.7135 - val_loss: 0.4151 - val_accuracy: 0.9002\n",
      "Epoch 58/1000\n",
      "26/31 [========================>.....] - ETA: 0s - loss: 0.7670 - accuracy: 0.7097\n",
      "Epoch 58: saving model to C:\\VS CODE\\computer vision\\openCV\\BasicManipulation\\OpenCv-projects\\pythonAutoGUI\\hand-gesture-recognition-mediapipe-main (1)\\hand-gesture-recognition-mediapipe-main\\model\\keypoint_classifier\\keypoint_classifier.hdf5\n",
      "31/31 [==============================] - 0s 9ms/step - loss: 0.7717 - accuracy: 0.7087 - val_loss: 0.3995 - val_accuracy: 0.9078\n",
      "Epoch 59/1000\n",
      "22/31 [====================>.........] - ETA: 0s - loss: 0.7790 - accuracy: 0.7088\n",
      "Epoch 59: saving model to C:\\VS CODE\\computer vision\\openCV\\BasicManipulation\\OpenCv-projects\\pythonAutoGUI\\hand-gesture-recognition-mediapipe-main (1)\\hand-gesture-recognition-mediapipe-main\\model\\keypoint_classifier\\keypoint_classifier.hdf5\n",
      "31/31 [==============================] - 0s 11ms/step - loss: 0.7669 - accuracy: 0.7166 - val_loss: 0.3921 - val_accuracy: 0.9123\n",
      "Epoch 60/1000\n",
      "24/31 [======================>.......] - ETA: 0s - loss: 0.7431 - accuracy: 0.7207\n",
      "Epoch 60: saving model to C:\\VS CODE\\computer vision\\openCV\\BasicManipulation\\OpenCv-projects\\pythonAutoGUI\\hand-gesture-recognition-mediapipe-main (1)\\hand-gesture-recognition-mediapipe-main\\model\\keypoint_classifier\\keypoint_classifier.hdf5\n",
      "31/31 [==============================] - 0s 10ms/step - loss: 0.7468 - accuracy: 0.7194 - val_loss: 0.3941 - val_accuracy: 0.9055\n",
      "Epoch 61/1000\n",
      "24/31 [======================>.......] - ETA: 0s - loss: 0.7702 - accuracy: 0.7083\n",
      "Epoch 61: saving model to C:\\VS CODE\\computer vision\\openCV\\BasicManipulation\\OpenCv-projects\\pythonAutoGUI\\hand-gesture-recognition-mediapipe-main (1)\\hand-gesture-recognition-mediapipe-main\\model\\keypoint_classifier\\keypoint_classifier.hdf5\n",
      "31/31 [==============================] - 0s 10ms/step - loss: 0.7696 - accuracy: 0.7105 - val_loss: 0.3920 - val_accuracy: 0.9047\n",
      "Epoch 62/1000\n",
      "24/31 [======================>.......] - ETA: 0s - loss: 0.7518 - accuracy: 0.7194\n",
      "Epoch 62: saving model to C:\\VS CODE\\computer vision\\openCV\\BasicManipulation\\OpenCv-projects\\pythonAutoGUI\\hand-gesture-recognition-mediapipe-main (1)\\hand-gesture-recognition-mediapipe-main\\model\\keypoint_classifier\\keypoint_classifier.hdf5\n",
      "31/31 [==============================] - 0s 11ms/step - loss: 0.7573 - accuracy: 0.7211 - val_loss: 0.3886 - val_accuracy: 0.9002\n",
      "Epoch 63/1000\n",
      "26/31 [========================>.....] - ETA: 0s - loss: 0.7467 - accuracy: 0.7163\n",
      "Epoch 63: saving model to C:\\VS CODE\\computer vision\\openCV\\BasicManipulation\\OpenCv-projects\\pythonAutoGUI\\hand-gesture-recognition-mediapipe-main (1)\\hand-gesture-recognition-mediapipe-main\\model\\keypoint_classifier\\keypoint_classifier.hdf5\n",
      "31/31 [==============================] - 0s 10ms/step - loss: 0.7479 - accuracy: 0.7148 - val_loss: 0.3841 - val_accuracy: 0.8971\n",
      "Epoch 64/1000\n",
      "24/31 [======================>.......] - ETA: 0s - loss: 0.7406 - accuracy: 0.7135\n",
      "Epoch 64: saving model to C:\\VS CODE\\computer vision\\openCV\\BasicManipulation\\OpenCv-projects\\pythonAutoGUI\\hand-gesture-recognition-mediapipe-main (1)\\hand-gesture-recognition-mediapipe-main\\model\\keypoint_classifier\\keypoint_classifier.hdf5\n",
      "31/31 [==============================] - 0s 11ms/step - loss: 0.7372 - accuracy: 0.7161 - val_loss: 0.3796 - val_accuracy: 0.9040\n",
      "Epoch 65/1000\n",
      "24/31 [======================>.......] - ETA: 0s - loss: 0.7339 - accuracy: 0.7354\n",
      "Epoch 65: saving model to C:\\VS CODE\\computer vision\\openCV\\BasicManipulation\\OpenCv-projects\\pythonAutoGUI\\hand-gesture-recognition-mediapipe-main (1)\\hand-gesture-recognition-mediapipe-main\\model\\keypoint_classifier\\keypoint_classifier.hdf5\n",
      "31/31 [==============================] - 0s 10ms/step - loss: 0.7446 - accuracy: 0.7311 - val_loss: 0.3772 - val_accuracy: 0.9078\n",
      "Epoch 66/1000\n",
      "28/31 [==========================>...] - ETA: 0s - loss: 0.7482 - accuracy: 0.7235\n",
      "Epoch 66: saving model to C:\\VS CODE\\computer vision\\openCV\\BasicManipulation\\OpenCv-projects\\pythonAutoGUI\\hand-gesture-recognition-mediapipe-main (1)\\hand-gesture-recognition-mediapipe-main\\model\\keypoint_classifier\\keypoint_classifier.hdf5\n",
      "31/31 [==============================] - 0s 13ms/step - loss: 0.7480 - accuracy: 0.7234 - val_loss: 0.3765 - val_accuracy: 0.9154\n",
      "Epoch 67/1000\n",
      "31/31 [==============================] - ETA: 0s - loss: 0.7357 - accuracy: 0.7224\n",
      "Epoch 67: saving model to C:\\VS CODE\\computer vision\\openCV\\BasicManipulation\\OpenCv-projects\\pythonAutoGUI\\hand-gesture-recognition-mediapipe-main (1)\\hand-gesture-recognition-mediapipe-main\\model\\keypoint_classifier\\keypoint_classifier.hdf5\n",
      "31/31 [==============================] - 0s 13ms/step - loss: 0.7357 - accuracy: 0.7224 - val_loss: 0.3725 - val_accuracy: 0.9101\n",
      "Epoch 68/1000\n",
      "27/31 [=========================>....] - ETA: 0s - loss: 0.7474 - accuracy: 0.7124\n",
      "Epoch 68: saving model to C:\\VS CODE\\computer vision\\openCV\\BasicManipulation\\OpenCv-projects\\pythonAutoGUI\\hand-gesture-recognition-mediapipe-main (1)\\hand-gesture-recognition-mediapipe-main\\model\\keypoint_classifier\\keypoint_classifier.hdf5\n",
      "31/31 [==============================] - 0s 9ms/step - loss: 0.7382 - accuracy: 0.7166 - val_loss: 0.3676 - val_accuracy: 0.9162\n",
      "Epoch 69/1000\n",
      "24/31 [======================>.......] - ETA: 0s - loss: 0.7566 - accuracy: 0.7158\n",
      "Epoch 69: saving model to C:\\VS CODE\\computer vision\\openCV\\BasicManipulation\\OpenCv-projects\\pythonAutoGUI\\hand-gesture-recognition-mediapipe-main (1)\\hand-gesture-recognition-mediapipe-main\\model\\keypoint_classifier\\keypoint_classifier.hdf5\n",
      "31/31 [==============================] - 0s 10ms/step - loss: 0.7574 - accuracy: 0.7150 - val_loss: 0.3686 - val_accuracy: 0.9184\n",
      "Epoch 70/1000\n",
      "23/31 [=====================>........] - ETA: 0s - loss: 0.7377 - accuracy: 0.7317\n",
      "Epoch 70: saving model to C:\\VS CODE\\computer vision\\openCV\\BasicManipulation\\OpenCv-projects\\pythonAutoGUI\\hand-gesture-recognition-mediapipe-main (1)\\hand-gesture-recognition-mediapipe-main\\model\\keypoint_classifier\\keypoint_classifier.hdf5\n",
      "31/31 [==============================] - 0s 9ms/step - loss: 0.7261 - accuracy: 0.7372 - val_loss: 0.3600 - val_accuracy: 0.9268\n",
      "Epoch 71/1000\n",
      "24/31 [======================>.......] - ETA: 0s - loss: 0.7080 - accuracy: 0.7246\n",
      "Epoch 71: saving model to C:\\VS CODE\\computer vision\\openCV\\BasicManipulation\\OpenCv-projects\\pythonAutoGUI\\hand-gesture-recognition-mediapipe-main (1)\\hand-gesture-recognition-mediapipe-main\\model\\keypoint_classifier\\keypoint_classifier.hdf5\n",
      "31/31 [==============================] - 0s 9ms/step - loss: 0.7166 - accuracy: 0.7237 - val_loss: 0.3625 - val_accuracy: 0.9139\n",
      "Epoch 72/1000\n",
      "23/31 [=====================>........] - ETA: 0s - loss: 0.7213 - accuracy: 0.7327\n",
      "Epoch 72: saving model to C:\\VS CODE\\computer vision\\openCV\\BasicManipulation\\OpenCv-projects\\pythonAutoGUI\\hand-gesture-recognition-mediapipe-main (1)\\hand-gesture-recognition-mediapipe-main\\model\\keypoint_classifier\\keypoint_classifier.hdf5\n",
      "31/31 [==============================] - 0s 9ms/step - loss: 0.7405 - accuracy: 0.7255 - val_loss: 0.3689 - val_accuracy: 0.9230\n",
      "Epoch 73/1000\n",
      "23/31 [=====================>........] - ETA: 0s - loss: 0.7219 - accuracy: 0.7306\n",
      "Epoch 73: saving model to C:\\VS CODE\\computer vision\\openCV\\BasicManipulation\\OpenCv-projects\\pythonAutoGUI\\hand-gesture-recognition-mediapipe-main (1)\\hand-gesture-recognition-mediapipe-main\\model\\keypoint_classifier\\keypoint_classifier.hdf5\n",
      "31/31 [==============================] - 0s 9ms/step - loss: 0.7339 - accuracy: 0.7344 - val_loss: 0.3647 - val_accuracy: 0.9162\n",
      "Epoch 74/1000\n",
      "26/31 [========================>.....] - ETA: 0s - loss: 0.7310 - accuracy: 0.7302\n",
      "Epoch 74: saving model to C:\\VS CODE\\computer vision\\openCV\\BasicManipulation\\OpenCv-projects\\pythonAutoGUI\\hand-gesture-recognition-mediapipe-main (1)\\hand-gesture-recognition-mediapipe-main\\model\\keypoint_classifier\\keypoint_classifier.hdf5\n",
      "31/31 [==============================] - 0s 10ms/step - loss: 0.7333 - accuracy: 0.7313 - val_loss: 0.3578 - val_accuracy: 0.9200\n",
      "Epoch 75/1000\n",
      "24/31 [======================>.......] - ETA: 0s - loss: 0.7148 - accuracy: 0.7305\n",
      "Epoch 75: saving model to C:\\VS CODE\\computer vision\\openCV\\BasicManipulation\\OpenCv-projects\\pythonAutoGUI\\hand-gesture-recognition-mediapipe-main (1)\\hand-gesture-recognition-mediapipe-main\\model\\keypoint_classifier\\keypoint_classifier.hdf5\n",
      "31/31 [==============================] - 0s 10ms/step - loss: 0.7110 - accuracy: 0.7349 - val_loss: 0.3570 - val_accuracy: 0.9276\n",
      "Epoch 76/1000\n",
      "22/31 [====================>.........] - ETA: 0s - loss: 0.7430 - accuracy: 0.7173\n",
      "Epoch 76: saving model to C:\\VS CODE\\computer vision\\openCV\\BasicManipulation\\OpenCv-projects\\pythonAutoGUI\\hand-gesture-recognition-mediapipe-main (1)\\hand-gesture-recognition-mediapipe-main\\model\\keypoint_classifier\\keypoint_classifier.hdf5\n",
      "31/31 [==============================] - 0s 9ms/step - loss: 0.7296 - accuracy: 0.7245 - val_loss: 0.3568 - val_accuracy: 0.9314\n",
      "Epoch 77/1000\n",
      "26/31 [========================>.....] - ETA: 0s - loss: 0.7296 - accuracy: 0.7407\n",
      "Epoch 77: saving model to C:\\VS CODE\\computer vision\\openCV\\BasicManipulation\\OpenCv-projects\\pythonAutoGUI\\hand-gesture-recognition-mediapipe-main (1)\\hand-gesture-recognition-mediapipe-main\\model\\keypoint_classifier\\keypoint_classifier.hdf5\n",
      "31/31 [==============================] - 0s 9ms/step - loss: 0.7324 - accuracy: 0.7405 - val_loss: 0.3581 - val_accuracy: 0.9238\n",
      "Epoch 78/1000\n",
      "24/31 [======================>.......] - ETA: 0s - loss: 0.7206 - accuracy: 0.7298\n",
      "Epoch 78: saving model to C:\\VS CODE\\computer vision\\openCV\\BasicManipulation\\OpenCv-projects\\pythonAutoGUI\\hand-gesture-recognition-mediapipe-main (1)\\hand-gesture-recognition-mediapipe-main\\model\\keypoint_classifier\\keypoint_classifier.hdf5\n",
      "31/31 [==============================] - 0s 10ms/step - loss: 0.7227 - accuracy: 0.7278 - val_loss: 0.3558 - val_accuracy: 0.9268\n",
      "Epoch 79/1000\n",
      "23/31 [=====================>........] - ETA: 0s - loss: 0.7168 - accuracy: 0.7283\n",
      "Epoch 79: saving model to C:\\VS CODE\\computer vision\\openCV\\BasicManipulation\\OpenCv-projects\\pythonAutoGUI\\hand-gesture-recognition-mediapipe-main (1)\\hand-gesture-recognition-mediapipe-main\\model\\keypoint_classifier\\keypoint_classifier.hdf5\n",
      "31/31 [==============================] - 0s 10ms/step - loss: 0.7195 - accuracy: 0.7245 - val_loss: 0.3541 - val_accuracy: 0.9261\n",
      "Epoch 80/1000\n",
      "25/31 [=======================>......] - ETA: 0s - loss: 0.6988 - accuracy: 0.7366\n",
      "Epoch 80: saving model to C:\\VS CODE\\computer vision\\openCV\\BasicManipulation\\OpenCv-projects\\pythonAutoGUI\\hand-gesture-recognition-mediapipe-main (1)\\hand-gesture-recognition-mediapipe-main\\model\\keypoint_classifier\\keypoint_classifier.hdf5\n",
      "31/31 [==============================] - 0s 9ms/step - loss: 0.7059 - accuracy: 0.7341 - val_loss: 0.3510 - val_accuracy: 0.9329\n",
      "Epoch 81/1000\n",
      "27/31 [=========================>....] - ETA: 0s - loss: 0.7264 - accuracy: 0.7335\n",
      "Epoch 81: saving model to C:\\VS CODE\\computer vision\\openCV\\BasicManipulation\\OpenCv-projects\\pythonAutoGUI\\hand-gesture-recognition-mediapipe-main (1)\\hand-gesture-recognition-mediapipe-main\\model\\keypoint_classifier\\keypoint_classifier.hdf5\n",
      "31/31 [==============================] - 0s 9ms/step - loss: 0.7197 - accuracy: 0.7377 - val_loss: 0.3481 - val_accuracy: 0.9352\n",
      "Epoch 82/1000\n",
      "26/31 [========================>.....] - ETA: 0s - loss: 0.7364 - accuracy: 0.7275\n",
      "Epoch 82: saving model to C:\\VS CODE\\computer vision\\openCV\\BasicManipulation\\OpenCv-projects\\pythonAutoGUI\\hand-gesture-recognition-mediapipe-main (1)\\hand-gesture-recognition-mediapipe-main\\model\\keypoint_classifier\\keypoint_classifier.hdf5\n",
      "31/31 [==============================] - 0s 8ms/step - loss: 0.7315 - accuracy: 0.7311 - val_loss: 0.3463 - val_accuracy: 0.9329\n",
      "Epoch 83/1000\n",
      "28/31 [==========================>...] - ETA: 0s - loss: 0.6958 - accuracy: 0.7447\n",
      "Epoch 83: saving model to C:\\VS CODE\\computer vision\\openCV\\BasicManipulation\\OpenCv-projects\\pythonAutoGUI\\hand-gesture-recognition-mediapipe-main (1)\\hand-gesture-recognition-mediapipe-main\\model\\keypoint_classifier\\keypoint_classifier.hdf5\n",
      "31/31 [==============================] - 0s 9ms/step - loss: 0.7005 - accuracy: 0.7422 - val_loss: 0.3468 - val_accuracy: 0.9383\n",
      "Epoch 84/1000\n",
      "23/31 [=====================>........] - ETA: 0s - loss: 0.7065 - accuracy: 0.7446\n",
      "Epoch 84: saving model to C:\\VS CODE\\computer vision\\openCV\\BasicManipulation\\OpenCv-projects\\pythonAutoGUI\\hand-gesture-recognition-mediapipe-main (1)\\hand-gesture-recognition-mediapipe-main\\model\\keypoint_classifier\\keypoint_classifier.hdf5\n",
      "31/31 [==============================] - 0s 11ms/step - loss: 0.7063 - accuracy: 0.7430 - val_loss: 0.3480 - val_accuracy: 0.9367\n",
      "Epoch 85/1000\n",
      "25/31 [=======================>......] - ETA: 0s - loss: 0.7100 - accuracy: 0.7409\n",
      "Epoch 85: saving model to C:\\VS CODE\\computer vision\\openCV\\BasicManipulation\\OpenCv-projects\\pythonAutoGUI\\hand-gesture-recognition-mediapipe-main (1)\\hand-gesture-recognition-mediapipe-main\\model\\keypoint_classifier\\keypoint_classifier.hdf5\n",
      "31/31 [==============================] - 0s 10ms/step - loss: 0.6972 - accuracy: 0.7468 - val_loss: 0.3457 - val_accuracy: 0.9345\n",
      "Epoch 86/1000\n",
      "27/31 [=========================>....] - ETA: 0s - loss: 0.7147 - accuracy: 0.7338\n",
      "Epoch 86: saving model to C:\\VS CODE\\computer vision\\openCV\\BasicManipulation\\OpenCv-projects\\pythonAutoGUI\\hand-gesture-recognition-mediapipe-main (1)\\hand-gesture-recognition-mediapipe-main\\model\\keypoint_classifier\\keypoint_classifier.hdf5\n",
      "31/31 [==============================] - 0s 9ms/step - loss: 0.7076 - accuracy: 0.7389 - val_loss: 0.3444 - val_accuracy: 0.9345\n",
      "Epoch 87/1000\n",
      "25/31 [=======================>......] - ETA: 0s - loss: 0.6947 - accuracy: 0.7384\n",
      "Epoch 87: saving model to C:\\VS CODE\\computer vision\\openCV\\BasicManipulation\\OpenCv-projects\\pythonAutoGUI\\hand-gesture-recognition-mediapipe-main (1)\\hand-gesture-recognition-mediapipe-main\\model\\keypoint_classifier\\keypoint_classifier.hdf5\n",
      "31/31 [==============================] - 0s 10ms/step - loss: 0.7077 - accuracy: 0.7308 - val_loss: 0.3474 - val_accuracy: 0.9322\n",
      "Epoch 88/1000\n",
      "24/31 [======================>.......] - ETA: 0s - loss: 0.7069 - accuracy: 0.7389\n",
      "Epoch 88: saving model to C:\\VS CODE\\computer vision\\openCV\\BasicManipulation\\OpenCv-projects\\pythonAutoGUI\\hand-gesture-recognition-mediapipe-main (1)\\hand-gesture-recognition-mediapipe-main\\model\\keypoint_classifier\\keypoint_classifier.hdf5\n",
      "31/31 [==============================] - 0s 9ms/step - loss: 0.6932 - accuracy: 0.7471 - val_loss: 0.3436 - val_accuracy: 0.9367\n",
      "Epoch 89/1000\n",
      "23/31 [=====================>........] - ETA: 0s - loss: 0.7000 - accuracy: 0.7446\n",
      "Epoch 89: saving model to C:\\VS CODE\\computer vision\\openCV\\BasicManipulation\\OpenCv-projects\\pythonAutoGUI\\hand-gesture-recognition-mediapipe-main (1)\\hand-gesture-recognition-mediapipe-main\\model\\keypoint_classifier\\keypoint_classifier.hdf5\n",
      "31/31 [==============================] - 0s 15ms/step - loss: 0.6989 - accuracy: 0.7440 - val_loss: 0.3321 - val_accuracy: 0.9375\n",
      "Epoch 90/1000\n",
      "22/31 [====================>.........] - ETA: 0s - loss: 0.6994 - accuracy: 0.7383\n",
      "Epoch 90: saving model to C:\\VS CODE\\computer vision\\openCV\\BasicManipulation\\OpenCv-projects\\pythonAutoGUI\\hand-gesture-recognition-mediapipe-main (1)\\hand-gesture-recognition-mediapipe-main\\model\\keypoint_classifier\\keypoint_classifier.hdf5\n",
      "31/31 [==============================] - 0s 10ms/step - loss: 0.6966 - accuracy: 0.7392 - val_loss: 0.3380 - val_accuracy: 0.9390\n",
      "Epoch 91/1000\n",
      "26/31 [========================>.....] - ETA: 0s - loss: 0.7004 - accuracy: 0.7530\n",
      "Epoch 91: saving model to C:\\VS CODE\\computer vision\\openCV\\BasicManipulation\\OpenCv-projects\\pythonAutoGUI\\hand-gesture-recognition-mediapipe-main (1)\\hand-gesture-recognition-mediapipe-main\\model\\keypoint_classifier\\keypoint_classifier.hdf5\n",
      "31/31 [==============================] - 0s 9ms/step - loss: 0.6944 - accuracy: 0.7542 - val_loss: 0.3364 - val_accuracy: 0.9367\n",
      "Epoch 92/1000\n",
      "24/31 [======================>.......] - ETA: 0s - loss: 0.6814 - accuracy: 0.7624\n",
      "Epoch 92: saving model to C:\\VS CODE\\computer vision\\openCV\\BasicManipulation\\OpenCv-projects\\pythonAutoGUI\\hand-gesture-recognition-mediapipe-main (1)\\hand-gesture-recognition-mediapipe-main\\model\\keypoint_classifier\\keypoint_classifier.hdf5\n",
      "31/31 [==============================] - 0s 10ms/step - loss: 0.6966 - accuracy: 0.7547 - val_loss: 0.3407 - val_accuracy: 0.9383\n",
      "Epoch 93/1000\n",
      "24/31 [======================>.......] - ETA: 0s - loss: 0.7008 - accuracy: 0.7422\n",
      "Epoch 93: saving model to C:\\VS CODE\\computer vision\\openCV\\BasicManipulation\\OpenCv-projects\\pythonAutoGUI\\hand-gesture-recognition-mediapipe-main (1)\\hand-gesture-recognition-mediapipe-main\\model\\keypoint_classifier\\keypoint_classifier.hdf5\n",
      "31/31 [==============================] - 0s 9ms/step - loss: 0.7185 - accuracy: 0.7354 - val_loss: 0.3406 - val_accuracy: 0.9360\n",
      "Epoch 94/1000\n",
      "31/31 [==============================] - ETA: 0s - loss: 0.6947 - accuracy: 0.7402\n",
      "Epoch 94: saving model to C:\\VS CODE\\computer vision\\openCV\\BasicManipulation\\OpenCv-projects\\pythonAutoGUI\\hand-gesture-recognition-mediapipe-main (1)\\hand-gesture-recognition-mediapipe-main\\model\\keypoint_classifier\\keypoint_classifier.hdf5\n",
      "31/31 [==============================] - 0s 11ms/step - loss: 0.6947 - accuracy: 0.7402 - val_loss: 0.3344 - val_accuracy: 0.9360\n",
      "Epoch 95/1000\n",
      "23/31 [=====================>........] - ETA: 0s - loss: 0.6648 - accuracy: 0.7592\n",
      "Epoch 95: saving model to C:\\VS CODE\\computer vision\\openCV\\BasicManipulation\\OpenCv-projects\\pythonAutoGUI\\hand-gesture-recognition-mediapipe-main (1)\\hand-gesture-recognition-mediapipe-main\\model\\keypoint_classifier\\keypoint_classifier.hdf5\n",
      "31/31 [==============================] - 0s 10ms/step - loss: 0.6788 - accuracy: 0.7532 - val_loss: 0.3364 - val_accuracy: 0.9360\n",
      "Epoch 96/1000\n",
      "25/31 [=======================>......] - ETA: 0s - loss: 0.6723 - accuracy: 0.7528\n",
      "Epoch 96: saving model to C:\\VS CODE\\computer vision\\openCV\\BasicManipulation\\OpenCv-projects\\pythonAutoGUI\\hand-gesture-recognition-mediapipe-main (1)\\hand-gesture-recognition-mediapipe-main\\model\\keypoint_classifier\\keypoint_classifier.hdf5\n",
      "31/31 [==============================] - 0s 9ms/step - loss: 0.6634 - accuracy: 0.7562 - val_loss: 0.3180 - val_accuracy: 0.9398\n",
      "Epoch 97/1000\n",
      "26/31 [========================>.....] - ETA: 0s - loss: 0.6822 - accuracy: 0.7557\n",
      "Epoch 97: saving model to C:\\VS CODE\\computer vision\\openCV\\BasicManipulation\\OpenCv-projects\\pythonAutoGUI\\hand-gesture-recognition-mediapipe-main (1)\\hand-gesture-recognition-mediapipe-main\\model\\keypoint_classifier\\keypoint_classifier.hdf5\n",
      "31/31 [==============================] - 0s 10ms/step - loss: 0.6731 - accuracy: 0.7565 - val_loss: 0.3274 - val_accuracy: 0.9390\n",
      "Epoch 98/1000\n",
      "27/31 [=========================>....] - ETA: 0s - loss: 0.6998 - accuracy: 0.7413\n",
      "Epoch 98: saving model to C:\\VS CODE\\computer vision\\openCV\\BasicManipulation\\OpenCv-projects\\pythonAutoGUI\\hand-gesture-recognition-mediapipe-main (1)\\hand-gesture-recognition-mediapipe-main\\model\\keypoint_classifier\\keypoint_classifier.hdf5\n",
      "31/31 [==============================] - 0s 12ms/step - loss: 0.6919 - accuracy: 0.7463 - val_loss: 0.3259 - val_accuracy: 0.9451\n",
      "Epoch 99/1000\n",
      "24/31 [======================>.......] - ETA: 0s - loss: 0.7175 - accuracy: 0.7357\n",
      "Epoch 99: saving model to C:\\VS CODE\\computer vision\\openCV\\BasicManipulation\\OpenCv-projects\\pythonAutoGUI\\hand-gesture-recognition-mediapipe-main (1)\\hand-gesture-recognition-mediapipe-main\\model\\keypoint_classifier\\keypoint_classifier.hdf5\n",
      "31/31 [==============================] - 0s 10ms/step - loss: 0.7139 - accuracy: 0.7369 - val_loss: 0.3323 - val_accuracy: 0.9413\n",
      "Epoch 100/1000\n",
      "23/31 [=====================>........] - ETA: 0s - loss: 0.6759 - accuracy: 0.7582\n",
      "Epoch 100: saving model to C:\\VS CODE\\computer vision\\openCV\\BasicManipulation\\OpenCv-projects\\pythonAutoGUI\\hand-gesture-recognition-mediapipe-main (1)\\hand-gesture-recognition-mediapipe-main\\model\\keypoint_classifier\\keypoint_classifier.hdf5\n",
      "31/31 [==============================] - 0s 10ms/step - loss: 0.6751 - accuracy: 0.7575 - val_loss: 0.3216 - val_accuracy: 0.9436\n",
      "Epoch 101/1000\n",
      "26/31 [========================>.....] - ETA: 0s - loss: 0.6751 - accuracy: 0.7524\n",
      "Epoch 101: saving model to C:\\VS CODE\\computer vision\\openCV\\BasicManipulation\\OpenCv-projects\\pythonAutoGUI\\hand-gesture-recognition-mediapipe-main (1)\\hand-gesture-recognition-mediapipe-main\\model\\keypoint_classifier\\keypoint_classifier.hdf5\n",
      "31/31 [==============================] - 0s 9ms/step - loss: 0.6679 - accuracy: 0.7552 - val_loss: 0.3140 - val_accuracy: 0.9428\n",
      "Epoch 102/1000\n",
      "23/31 [=====================>........] - ETA: 0s - loss: 0.6999 - accuracy: 0.7473\n",
      "Epoch 102: saving model to C:\\VS CODE\\computer vision\\openCV\\BasicManipulation\\OpenCv-projects\\pythonAutoGUI\\hand-gesture-recognition-mediapipe-main (1)\\hand-gesture-recognition-mediapipe-main\\model\\keypoint_classifier\\keypoint_classifier.hdf5\n",
      "31/31 [==============================] - 0s 11ms/step - loss: 0.7037 - accuracy: 0.7445 - val_loss: 0.3203 - val_accuracy: 0.9413\n",
      "Epoch 103/1000\n",
      "21/31 [===================>..........] - ETA: 0s - loss: 0.6700 - accuracy: 0.7504\n",
      "Epoch 103: saving model to C:\\VS CODE\\computer vision\\openCV\\BasicManipulation\\OpenCv-projects\\pythonAutoGUI\\hand-gesture-recognition-mediapipe-main (1)\\hand-gesture-recognition-mediapipe-main\\model\\keypoint_classifier\\keypoint_classifier.hdf5\n",
      "31/31 [==============================] - 0s 14ms/step - loss: 0.6779 - accuracy: 0.7458 - val_loss: 0.3221 - val_accuracy: 0.9451\n",
      "Epoch 104/1000\n",
      "25/31 [=======================>......] - ETA: 0s - loss: 0.6836 - accuracy: 0.7600\n",
      "Epoch 104: saving model to C:\\VS CODE\\computer vision\\openCV\\BasicManipulation\\OpenCv-projects\\pythonAutoGUI\\hand-gesture-recognition-mediapipe-main (1)\\hand-gesture-recognition-mediapipe-main\\model\\keypoint_classifier\\keypoint_classifier.hdf5\n",
      "31/31 [==============================] - 0s 10ms/step - loss: 0.6790 - accuracy: 0.7613 - val_loss: 0.3218 - val_accuracy: 0.9444\n",
      "Epoch 105/1000\n",
      "22/31 [====================>.........] - ETA: 0s - loss: 0.6740 - accuracy: 0.7493\n",
      "Epoch 105: saving model to C:\\VS CODE\\computer vision\\openCV\\BasicManipulation\\OpenCv-projects\\pythonAutoGUI\\hand-gesture-recognition-mediapipe-main (1)\\hand-gesture-recognition-mediapipe-main\\model\\keypoint_classifier\\keypoint_classifier.hdf5\n",
      "31/31 [==============================] - 0s 11ms/step - loss: 0.6652 - accuracy: 0.7542 - val_loss: 0.3173 - val_accuracy: 0.9428\n",
      "Epoch 106/1000\n",
      "28/31 [==========================>...] - ETA: 0s - loss: 0.6872 - accuracy: 0.7545\n",
      "Epoch 106: saving model to C:\\VS CODE\\computer vision\\openCV\\BasicManipulation\\OpenCv-projects\\pythonAutoGUI\\hand-gesture-recognition-mediapipe-main (1)\\hand-gesture-recognition-mediapipe-main\\model\\keypoint_classifier\\keypoint_classifier.hdf5\n",
      "31/31 [==============================] - 0s 12ms/step - loss: 0.6847 - accuracy: 0.7544 - val_loss: 0.3230 - val_accuracy: 0.9482\n",
      "Epoch 107/1000\n",
      "31/31 [==============================] - ETA: 0s - loss: 0.6799 - accuracy: 0.7560\n",
      "Epoch 107: saving model to C:\\VS CODE\\computer vision\\openCV\\BasicManipulation\\OpenCv-projects\\pythonAutoGUI\\hand-gesture-recognition-mediapipe-main (1)\\hand-gesture-recognition-mediapipe-main\\model\\keypoint_classifier\\keypoint_classifier.hdf5\n",
      "31/31 [==============================] - 0s 11ms/step - loss: 0.6799 - accuracy: 0.7560 - val_loss: 0.3227 - val_accuracy: 0.9444\n",
      "Epoch 108/1000\n",
      "23/31 [=====================>........] - ETA: 0s - loss: 0.6654 - accuracy: 0.7639\n",
      "Epoch 108: saving model to C:\\VS CODE\\computer vision\\openCV\\BasicManipulation\\OpenCv-projects\\pythonAutoGUI\\hand-gesture-recognition-mediapipe-main (1)\\hand-gesture-recognition-mediapipe-main\\model\\keypoint_classifier\\keypoint_classifier.hdf5\n",
      "31/31 [==============================] - 0s 12ms/step - loss: 0.6588 - accuracy: 0.7626 - val_loss: 0.3242 - val_accuracy: 0.9383\n",
      "Epoch 109/1000\n",
      "22/31 [====================>.........] - ETA: 0s - loss: 0.6797 - accuracy: 0.7539\n",
      "Epoch 109: saving model to C:\\VS CODE\\computer vision\\openCV\\BasicManipulation\\OpenCv-projects\\pythonAutoGUI\\hand-gesture-recognition-mediapipe-main (1)\\hand-gesture-recognition-mediapipe-main\\model\\keypoint_classifier\\keypoint_classifier.hdf5\n",
      "31/31 [==============================] - 0s 10ms/step - loss: 0.6667 - accuracy: 0.7605 - val_loss: 0.3221 - val_accuracy: 0.9375\n",
      "Epoch 110/1000\n",
      "25/31 [=======================>......] - ETA: 0s - loss: 0.6542 - accuracy: 0.7703\n",
      "Epoch 110: saving model to C:\\VS CODE\\computer vision\\openCV\\BasicManipulation\\OpenCv-projects\\pythonAutoGUI\\hand-gesture-recognition-mediapipe-main (1)\\hand-gesture-recognition-mediapipe-main\\model\\keypoint_classifier\\keypoint_classifier.hdf5\n",
      "31/31 [==============================] - 0s 10ms/step - loss: 0.6606 - accuracy: 0.7677 - val_loss: 0.3090 - val_accuracy: 0.9428\n",
      "Epoch 111/1000\n",
      "21/31 [===================>..........] - ETA: 0s - loss: 0.6928 - accuracy: 0.7426\n",
      "Epoch 111: saving model to C:\\VS CODE\\computer vision\\openCV\\BasicManipulation\\OpenCv-projects\\pythonAutoGUI\\hand-gesture-recognition-mediapipe-main (1)\\hand-gesture-recognition-mediapipe-main\\model\\keypoint_classifier\\keypoint_classifier.hdf5\n",
      "31/31 [==============================] - 0s 11ms/step - loss: 0.6857 - accuracy: 0.7468 - val_loss: 0.3163 - val_accuracy: 0.9451\n",
      "Epoch 112/1000\n",
      "23/31 [=====================>........] - ETA: 0s - loss: 0.6511 - accuracy: 0.7734\n",
      "Epoch 112: saving model to C:\\VS CODE\\computer vision\\openCV\\BasicManipulation\\OpenCv-projects\\pythonAutoGUI\\hand-gesture-recognition-mediapipe-main (1)\\hand-gesture-recognition-mediapipe-main\\model\\keypoint_classifier\\keypoint_classifier.hdf5\n",
      "31/31 [==============================] - 0s 11ms/step - loss: 0.6468 - accuracy: 0.7738 - val_loss: 0.3186 - val_accuracy: 0.9383\n",
      "Epoch 113/1000\n",
      "22/31 [====================>.........] - ETA: 0s - loss: 0.6787 - accuracy: 0.7546\n",
      "Epoch 113: saving model to C:\\VS CODE\\computer vision\\openCV\\BasicManipulation\\OpenCv-projects\\pythonAutoGUI\\hand-gesture-recognition-mediapipe-main (1)\\hand-gesture-recognition-mediapipe-main\\model\\keypoint_classifier\\keypoint_classifier.hdf5\n",
      "31/31 [==============================] - 0s 11ms/step - loss: 0.6748 - accuracy: 0.7578 - val_loss: 0.3177 - val_accuracy: 0.9428\n",
      "Epoch 114/1000\n",
      "30/31 [============================>.] - ETA: 0s - loss: 0.6863 - accuracy: 0.7570\n",
      "Epoch 114: saving model to C:\\VS CODE\\computer vision\\openCV\\BasicManipulation\\OpenCv-projects\\pythonAutoGUI\\hand-gesture-recognition-mediapipe-main (1)\\hand-gesture-recognition-mediapipe-main\\model\\keypoint_classifier\\keypoint_classifier.hdf5\n",
      "31/31 [==============================] - 0s 11ms/step - loss: 0.6860 - accuracy: 0.7570 - val_loss: 0.3230 - val_accuracy: 0.9421\n",
      "Epoch 115/1000\n",
      "31/31 [==============================] - ETA: 0s - loss: 0.6625 - accuracy: 0.7580\n",
      "Epoch 115: saving model to C:\\VS CODE\\computer vision\\openCV\\BasicManipulation\\OpenCv-projects\\pythonAutoGUI\\hand-gesture-recognition-mediapipe-main (1)\\hand-gesture-recognition-mediapipe-main\\model\\keypoint_classifier\\keypoint_classifier.hdf5\n",
      "31/31 [==============================] - 0s 11ms/step - loss: 0.6625 - accuracy: 0.7580 - val_loss: 0.3228 - val_accuracy: 0.9337\n",
      "Epoch 116/1000\n",
      "27/31 [=========================>....] - ETA: 0s - loss: 0.6673 - accuracy: 0.7593\n",
      "Epoch 116: saving model to C:\\VS CODE\\computer vision\\openCV\\BasicManipulation\\OpenCv-projects\\pythonAutoGUI\\hand-gesture-recognition-mediapipe-main (1)\\hand-gesture-recognition-mediapipe-main\\model\\keypoint_classifier\\keypoint_classifier.hdf5\n",
      "31/31 [==============================] - 0s 11ms/step - loss: 0.6704 - accuracy: 0.7580 - val_loss: 0.3148 - val_accuracy: 0.9436\n",
      "Epoch 117/1000\n",
      "30/31 [============================>.] - ETA: 0s - loss: 0.6607 - accuracy: 0.7583\n",
      "Epoch 117: saving model to C:\\VS CODE\\computer vision\\openCV\\BasicManipulation\\OpenCv-projects\\pythonAutoGUI\\hand-gesture-recognition-mediapipe-main (1)\\hand-gesture-recognition-mediapipe-main\\model\\keypoint_classifier\\keypoint_classifier.hdf5\n",
      "31/31 [==============================] - 0s 12ms/step - loss: 0.6605 - accuracy: 0.7588 - val_loss: 0.3133 - val_accuracy: 0.9482\n",
      "Epoch 118/1000\n",
      "28/31 [==========================>...] - ETA: 0s - loss: 0.6573 - accuracy: 0.7634\n",
      "Epoch 118: saving model to C:\\VS CODE\\computer vision\\openCV\\BasicManipulation\\OpenCv-projects\\pythonAutoGUI\\hand-gesture-recognition-mediapipe-main (1)\\hand-gesture-recognition-mediapipe-main\\model\\keypoint_classifier\\keypoint_classifier.hdf5\n",
      "31/31 [==============================] - 0s 12ms/step - loss: 0.6550 - accuracy: 0.7616 - val_loss: 0.3204 - val_accuracy: 0.9413\n",
      "Epoch 119/1000\n",
      "25/31 [=======================>......] - ETA: 0s - loss: 0.6411 - accuracy: 0.7713\n",
      "Epoch 119: saving model to C:\\VS CODE\\computer vision\\openCV\\BasicManipulation\\OpenCv-projects\\pythonAutoGUI\\hand-gesture-recognition-mediapipe-main (1)\\hand-gesture-recognition-mediapipe-main\\model\\keypoint_classifier\\keypoint_classifier.hdf5\n",
      "31/31 [==============================] - 0s 11ms/step - loss: 0.6327 - accuracy: 0.7733 - val_loss: 0.3054 - val_accuracy: 0.9489\n",
      "Epoch 120/1000\n",
      "21/31 [===================>..........] - ETA: 0s - loss: 0.7177 - accuracy: 0.7429\n",
      "Epoch 120: saving model to C:\\VS CODE\\computer vision\\openCV\\BasicManipulation\\OpenCv-projects\\pythonAutoGUI\\hand-gesture-recognition-mediapipe-main (1)\\hand-gesture-recognition-mediapipe-main\\model\\keypoint_classifier\\keypoint_classifier.hdf5\n",
      "31/31 [==============================] - 0s 11ms/step - loss: 0.6906 - accuracy: 0.7463 - val_loss: 0.3206 - val_accuracy: 0.9383\n",
      "Epoch 121/1000\n",
      "29/31 [===========================>..] - ETA: 0s - loss: 0.6469 - accuracy: 0.7659\n",
      "Epoch 121: saving model to C:\\VS CODE\\computer vision\\openCV\\BasicManipulation\\OpenCv-projects\\pythonAutoGUI\\hand-gesture-recognition-mediapipe-main (1)\\hand-gesture-recognition-mediapipe-main\\model\\keypoint_classifier\\keypoint_classifier.hdf5\n",
      "31/31 [==============================] - 0s 11ms/step - loss: 0.6493 - accuracy: 0.7651 - val_loss: 0.3044 - val_accuracy: 0.9383\n",
      "Epoch 122/1000\n",
      "24/31 [======================>.......] - ETA: 0s - loss: 0.6647 - accuracy: 0.7614\n",
      "Epoch 122: saving model to C:\\VS CODE\\computer vision\\openCV\\BasicManipulation\\OpenCv-projects\\pythonAutoGUI\\hand-gesture-recognition-mediapipe-main (1)\\hand-gesture-recognition-mediapipe-main\\model\\keypoint_classifier\\keypoint_classifier.hdf5\n",
      "31/31 [==============================] - 0s 12ms/step - loss: 0.6702 - accuracy: 0.7555 - val_loss: 0.3159 - val_accuracy: 0.9436\n",
      "Epoch 123/1000\n",
      "26/31 [========================>.....] - ETA: 0s - loss: 0.6529 - accuracy: 0.7641\n",
      "Epoch 123: saving model to C:\\VS CODE\\computer vision\\openCV\\BasicManipulation\\OpenCv-projects\\pythonAutoGUI\\hand-gesture-recognition-mediapipe-main (1)\\hand-gesture-recognition-mediapipe-main\\model\\keypoint_classifier\\keypoint_classifier.hdf5\n",
      "31/31 [==============================] - 0s 10ms/step - loss: 0.6639 - accuracy: 0.7598 - val_loss: 0.3126 - val_accuracy: 0.9482\n",
      "Epoch 124/1000\n",
      "25/31 [=======================>......] - ETA: 0s - loss: 0.6477 - accuracy: 0.7697\n",
      "Epoch 124: saving model to C:\\VS CODE\\computer vision\\openCV\\BasicManipulation\\OpenCv-projects\\pythonAutoGUI\\hand-gesture-recognition-mediapipe-main (1)\\hand-gesture-recognition-mediapipe-main\\model\\keypoint_classifier\\keypoint_classifier.hdf5\n",
      "31/31 [==============================] - 0s 11ms/step - loss: 0.6550 - accuracy: 0.7649 - val_loss: 0.3127 - val_accuracy: 0.9466\n",
      "Epoch 125/1000\n",
      "25/31 [=======================>......] - ETA: 0s - loss: 0.6626 - accuracy: 0.7625\n",
      "Epoch 125: saving model to C:\\VS CODE\\computer vision\\openCV\\BasicManipulation\\OpenCv-projects\\pythonAutoGUI\\hand-gesture-recognition-mediapipe-main (1)\\hand-gesture-recognition-mediapipe-main\\model\\keypoint_classifier\\keypoint_classifier.hdf5\n",
      "31/31 [==============================] - 0s 9ms/step - loss: 0.6611 - accuracy: 0.7621 - val_loss: 0.3075 - val_accuracy: 0.9474\n",
      "Epoch 126/1000\n",
      "24/31 [======================>.......] - ETA: 0s - loss: 0.6678 - accuracy: 0.7653\n",
      "Epoch 126: saving model to C:\\VS CODE\\computer vision\\openCV\\BasicManipulation\\OpenCv-projects\\pythonAutoGUI\\hand-gesture-recognition-mediapipe-main (1)\\hand-gesture-recognition-mediapipe-main\\model\\keypoint_classifier\\keypoint_classifier.hdf5\n",
      "31/31 [==============================] - 0s 10ms/step - loss: 0.6570 - accuracy: 0.7641 - val_loss: 0.3086 - val_accuracy: 0.9428\n",
      "Epoch 127/1000\n",
      "23/31 [=====================>........] - ETA: 0s - loss: 0.6544 - accuracy: 0.7734\n",
      "Epoch 127: saving model to C:\\VS CODE\\computer vision\\openCV\\BasicManipulation\\OpenCv-projects\\pythonAutoGUI\\hand-gesture-recognition-mediapipe-main (1)\\hand-gesture-recognition-mediapipe-main\\model\\keypoint_classifier\\keypoint_classifier.hdf5\n",
      "31/31 [==============================] - 0s 10ms/step - loss: 0.6622 - accuracy: 0.7687 - val_loss: 0.3140 - val_accuracy: 0.9405\n",
      "Epoch 128/1000\n",
      "23/31 [=====================>........] - ETA: 0s - loss: 0.6455 - accuracy: 0.7663\n",
      "Epoch 128: saving model to C:\\VS CODE\\computer vision\\openCV\\BasicManipulation\\OpenCv-projects\\pythonAutoGUI\\hand-gesture-recognition-mediapipe-main (1)\\hand-gesture-recognition-mediapipe-main\\model\\keypoint_classifier\\keypoint_classifier.hdf5\n",
      "31/31 [==============================] - 0s 10ms/step - loss: 0.6535 - accuracy: 0.7659 - val_loss: 0.3066 - val_accuracy: 0.9436\n",
      "Epoch 129/1000\n",
      "25/31 [=======================>......] - ETA: 0s - loss: 0.6455 - accuracy: 0.7681\n",
      "Epoch 129: saving model to C:\\VS CODE\\computer vision\\openCV\\BasicManipulation\\OpenCv-projects\\pythonAutoGUI\\hand-gesture-recognition-mediapipe-main (1)\\hand-gesture-recognition-mediapipe-main\\model\\keypoint_classifier\\keypoint_classifier.hdf5\n",
      "31/31 [==============================] - 0s 10ms/step - loss: 0.6475 - accuracy: 0.7677 - val_loss: 0.3137 - val_accuracy: 0.9390\n",
      "Epoch 130/1000\n",
      "24/31 [======================>.......] - ETA: 0s - loss: 0.6492 - accuracy: 0.7666\n",
      "Epoch 130: saving model to C:\\VS CODE\\computer vision\\openCV\\BasicManipulation\\OpenCv-projects\\pythonAutoGUI\\hand-gesture-recognition-mediapipe-main (1)\\hand-gesture-recognition-mediapipe-main\\model\\keypoint_classifier\\keypoint_classifier.hdf5\n",
      "31/31 [==============================] - 0s 11ms/step - loss: 0.6551 - accuracy: 0.7674 - val_loss: 0.3040 - val_accuracy: 0.9512\n",
      "Epoch 131/1000\n",
      "27/31 [=========================>....] - ETA: 0s - loss: 0.6596 - accuracy: 0.7610\n",
      "Epoch 131: saving model to C:\\VS CODE\\computer vision\\openCV\\BasicManipulation\\OpenCv-projects\\pythonAutoGUI\\hand-gesture-recognition-mediapipe-main (1)\\hand-gesture-recognition-mediapipe-main\\model\\keypoint_classifier\\keypoint_classifier.hdf5\n",
      "31/31 [==============================] - 0s 9ms/step - loss: 0.6584 - accuracy: 0.7611 - val_loss: 0.3003 - val_accuracy: 0.9489\n",
      "Epoch 132/1000\n",
      "22/31 [====================>.........] - ETA: 0s - loss: 0.6427 - accuracy: 0.7667\n",
      "Epoch 132: saving model to C:\\VS CODE\\computer vision\\openCV\\BasicManipulation\\OpenCv-projects\\pythonAutoGUI\\hand-gesture-recognition-mediapipe-main (1)\\hand-gesture-recognition-mediapipe-main\\model\\keypoint_classifier\\keypoint_classifier.hdf5\n",
      "31/31 [==============================] - 0s 10ms/step - loss: 0.6524 - accuracy: 0.7644 - val_loss: 0.3114 - val_accuracy: 0.9413\n",
      "Epoch 133/1000\n",
      "24/31 [======================>.......] - ETA: 0s - loss: 0.6535 - accuracy: 0.7637\n",
      "Epoch 133: saving model to C:\\VS CODE\\computer vision\\openCV\\BasicManipulation\\OpenCv-projects\\pythonAutoGUI\\hand-gesture-recognition-mediapipe-main (1)\\hand-gesture-recognition-mediapipe-main\\model\\keypoint_classifier\\keypoint_classifier.hdf5\n",
      "31/31 [==============================] - 0s 10ms/step - loss: 0.6548 - accuracy: 0.7600 - val_loss: 0.3059 - val_accuracy: 0.9451\n",
      "Epoch 134/1000\n",
      "26/31 [========================>.....] - ETA: 0s - loss: 0.6581 - accuracy: 0.7647\n",
      "Epoch 134: saving model to C:\\VS CODE\\computer vision\\openCV\\BasicManipulation\\OpenCv-projects\\pythonAutoGUI\\hand-gesture-recognition-mediapipe-main (1)\\hand-gesture-recognition-mediapipe-main\\model\\keypoint_classifier\\keypoint_classifier.hdf5\n",
      "31/31 [==============================] - 0s 9ms/step - loss: 0.6442 - accuracy: 0.7679 - val_loss: 0.3059 - val_accuracy: 0.9489\n",
      "Epoch 135/1000\n",
      "29/31 [===========================>..] - ETA: 0s - loss: 0.6475 - accuracy: 0.7619\n",
      "Epoch 135: saving model to C:\\VS CODE\\computer vision\\openCV\\BasicManipulation\\OpenCv-projects\\pythonAutoGUI\\hand-gesture-recognition-mediapipe-main (1)\\hand-gesture-recognition-mediapipe-main\\model\\keypoint_classifier\\keypoint_classifier.hdf5\n",
      "31/31 [==============================] - 0s 9ms/step - loss: 0.6455 - accuracy: 0.7618 - val_loss: 0.3108 - val_accuracy: 0.9482\n",
      "Epoch 136/1000\n",
      "27/31 [=========================>....] - ETA: 0s - loss: 0.6462 - accuracy: 0.7726\n",
      "Epoch 136: saving model to C:\\VS CODE\\computer vision\\openCV\\BasicManipulation\\OpenCv-projects\\pythonAutoGUI\\hand-gesture-recognition-mediapipe-main (1)\\hand-gesture-recognition-mediapipe-main\\model\\keypoint_classifier\\keypoint_classifier.hdf5\n",
      "31/31 [==============================] - 0s 9ms/step - loss: 0.6375 - accuracy: 0.7766 - val_loss: 0.3100 - val_accuracy: 0.9398\n",
      "Epoch 137/1000\n",
      "25/31 [=======================>......] - ETA: 0s - loss: 0.6470 - accuracy: 0.7619\n",
      "Epoch 137: saving model to C:\\VS CODE\\computer vision\\openCV\\BasicManipulation\\OpenCv-projects\\pythonAutoGUI\\hand-gesture-recognition-mediapipe-main (1)\\hand-gesture-recognition-mediapipe-main\\model\\keypoint_classifier\\keypoint_classifier.hdf5\n",
      "31/31 [==============================] - 0s 10ms/step - loss: 0.6595 - accuracy: 0.7560 - val_loss: 0.2997 - val_accuracy: 0.9512\n",
      "Epoch 138/1000\n",
      "25/31 [=======================>......] - ETA: 0s - loss: 0.6533 - accuracy: 0.7663\n",
      "Epoch 138: saving model to C:\\VS CODE\\computer vision\\openCV\\BasicManipulation\\OpenCv-projects\\pythonAutoGUI\\hand-gesture-recognition-mediapipe-main (1)\\hand-gesture-recognition-mediapipe-main\\model\\keypoint_classifier\\keypoint_classifier.hdf5\n",
      "31/31 [==============================] - 0s 10ms/step - loss: 0.6465 - accuracy: 0.7694 - val_loss: 0.3093 - val_accuracy: 0.9405\n",
      "Epoch 139/1000\n",
      "23/31 [=====================>........] - ETA: 0s - loss: 0.6406 - accuracy: 0.7714\n",
      "Epoch 139: saving model to C:\\VS CODE\\computer vision\\openCV\\BasicManipulation\\OpenCv-projects\\pythonAutoGUI\\hand-gesture-recognition-mediapipe-main (1)\\hand-gesture-recognition-mediapipe-main\\model\\keypoint_classifier\\keypoint_classifier.hdf5\n",
      "31/31 [==============================] - 0s 10ms/step - loss: 0.6338 - accuracy: 0.7710 - val_loss: 0.2980 - val_accuracy: 0.9520\n",
      "Epoch 140/1000\n",
      "27/31 [=========================>....] - ETA: 0s - loss: 0.6621 - accuracy: 0.7682\n",
      "Epoch 140: saving model to C:\\VS CODE\\computer vision\\openCV\\BasicManipulation\\OpenCv-projects\\pythonAutoGUI\\hand-gesture-recognition-mediapipe-main (1)\\hand-gesture-recognition-mediapipe-main\\model\\keypoint_classifier\\keypoint_classifier.hdf5\n",
      "31/31 [==============================] - 0s 9ms/step - loss: 0.6522 - accuracy: 0.7707 - val_loss: 0.2968 - val_accuracy: 0.9543\n",
      "Epoch 141/1000\n",
      "25/31 [=======================>......] - ETA: 0s - loss: 0.6216 - accuracy: 0.7769\n",
      "Epoch 141: saving model to C:\\VS CODE\\computer vision\\openCV\\BasicManipulation\\OpenCv-projects\\pythonAutoGUI\\hand-gesture-recognition-mediapipe-main (1)\\hand-gesture-recognition-mediapipe-main\\model\\keypoint_classifier\\keypoint_classifier.hdf5\n",
      "31/31 [==============================] - 0s 9ms/step - loss: 0.6303 - accuracy: 0.7748 - val_loss: 0.3004 - val_accuracy: 0.9489\n",
      "Epoch 142/1000\n",
      "24/31 [======================>.......] - ETA: 0s - loss: 0.6505 - accuracy: 0.7627\n",
      "Epoch 142: saving model to C:\\VS CODE\\computer vision\\openCV\\BasicManipulation\\OpenCv-projects\\pythonAutoGUI\\hand-gesture-recognition-mediapipe-main (1)\\hand-gesture-recognition-mediapipe-main\\model\\keypoint_classifier\\keypoint_classifier.hdf5\n",
      "31/31 [==============================] - 0s 10ms/step - loss: 0.6499 - accuracy: 0.7631 - val_loss: 0.3040 - val_accuracy: 0.9535\n",
      "Epoch 143/1000\n",
      "29/31 [===========================>..] - ETA: 0s - loss: 0.6339 - accuracy: 0.7705\n",
      "Epoch 143: saving model to C:\\VS CODE\\computer vision\\openCV\\BasicManipulation\\OpenCv-projects\\pythonAutoGUI\\hand-gesture-recognition-mediapipe-main (1)\\hand-gesture-recognition-mediapipe-main\\model\\keypoint_classifier\\keypoint_classifier.hdf5\n",
      "31/31 [==============================] - 0s 10ms/step - loss: 0.6377 - accuracy: 0.7689 - val_loss: 0.2931 - val_accuracy: 0.9489\n",
      "Epoch 144/1000\n",
      "24/31 [======================>.......] - ETA: 0s - loss: 0.6409 - accuracy: 0.7718\n",
      "Epoch 144: saving model to C:\\VS CODE\\computer vision\\openCV\\BasicManipulation\\OpenCv-projects\\pythonAutoGUI\\hand-gesture-recognition-mediapipe-main (1)\\hand-gesture-recognition-mediapipe-main\\model\\keypoint_classifier\\keypoint_classifier.hdf5\n",
      "31/31 [==============================] - 0s 10ms/step - loss: 0.6350 - accuracy: 0.7753 - val_loss: 0.2885 - val_accuracy: 0.9566\n",
      "Epoch 145/1000\n",
      "26/31 [========================>.....] - ETA: 0s - loss: 0.6723 - accuracy: 0.7632\n",
      "Epoch 145: saving model to C:\\VS CODE\\computer vision\\openCV\\BasicManipulation\\OpenCv-projects\\pythonAutoGUI\\hand-gesture-recognition-mediapipe-main (1)\\hand-gesture-recognition-mediapipe-main\\model\\keypoint_classifier\\keypoint_classifier.hdf5\n",
      "31/31 [==============================] - 0s 10ms/step - loss: 0.6631 - accuracy: 0.7659 - val_loss: 0.3075 - val_accuracy: 0.9459\n",
      "Epoch 146/1000\n",
      "25/31 [=======================>......] - ETA: 0s - loss: 0.6246 - accuracy: 0.7834\n",
      "Epoch 146: saving model to C:\\VS CODE\\computer vision\\openCV\\BasicManipulation\\OpenCv-projects\\pythonAutoGUI\\hand-gesture-recognition-mediapipe-main (1)\\hand-gesture-recognition-mediapipe-main\\model\\keypoint_classifier\\keypoint_classifier.hdf5\n",
      "31/31 [==============================] - 0s 9ms/step - loss: 0.6229 - accuracy: 0.7822 - val_loss: 0.2940 - val_accuracy: 0.9527\n",
      "Epoch 147/1000\n",
      "26/31 [========================>.....] - ETA: 0s - loss: 0.6463 - accuracy: 0.7668\n",
      "Epoch 147: saving model to C:\\VS CODE\\computer vision\\openCV\\BasicManipulation\\OpenCv-projects\\pythonAutoGUI\\hand-gesture-recognition-mediapipe-main (1)\\hand-gesture-recognition-mediapipe-main\\model\\keypoint_classifier\\keypoint_classifier.hdf5\n",
      "31/31 [==============================] - 0s 10ms/step - loss: 0.6463 - accuracy: 0.7692 - val_loss: 0.3064 - val_accuracy: 0.9451\n",
      "Epoch 148/1000\n",
      "25/31 [=======================>......] - ETA: 0s - loss: 0.6104 - accuracy: 0.7766\n",
      "Epoch 148: saving model to C:\\VS CODE\\computer vision\\openCV\\BasicManipulation\\OpenCv-projects\\pythonAutoGUI\\hand-gesture-recognition-mediapipe-main (1)\\hand-gesture-recognition-mediapipe-main\\model\\keypoint_classifier\\keypoint_classifier.hdf5\n",
      "31/31 [==============================] - 0s 10ms/step - loss: 0.6162 - accuracy: 0.7748 - val_loss: 0.2965 - val_accuracy: 0.9550\n",
      "Epoch 149/1000\n",
      "29/31 [===========================>..] - ETA: 0s - loss: 0.6208 - accuracy: 0.7689\n",
      "Epoch 149: saving model to C:\\VS CODE\\computer vision\\openCV\\BasicManipulation\\OpenCv-projects\\pythonAutoGUI\\hand-gesture-recognition-mediapipe-main (1)\\hand-gesture-recognition-mediapipe-main\\model\\keypoint_classifier\\keypoint_classifier.hdf5\n",
      "31/31 [==============================] - 0s 10ms/step - loss: 0.6270 - accuracy: 0.7661 - val_loss: 0.3038 - val_accuracy: 0.9482\n",
      "Epoch 150/1000\n",
      "26/31 [========================>.....] - ETA: 0s - loss: 0.6254 - accuracy: 0.7755\n",
      "Epoch 150: saving model to C:\\VS CODE\\computer vision\\openCV\\BasicManipulation\\OpenCv-projects\\pythonAutoGUI\\hand-gesture-recognition-mediapipe-main (1)\\hand-gesture-recognition-mediapipe-main\\model\\keypoint_classifier\\keypoint_classifier.hdf5\n",
      "31/31 [==============================] - 0s 10ms/step - loss: 0.6245 - accuracy: 0.7766 - val_loss: 0.2994 - val_accuracy: 0.9474\n",
      "Epoch 151/1000\n",
      "26/31 [========================>.....] - ETA: 0s - loss: 0.6436 - accuracy: 0.7737\n",
      "Epoch 151: saving model to C:\\VS CODE\\computer vision\\openCV\\BasicManipulation\\OpenCv-projects\\pythonAutoGUI\\hand-gesture-recognition-mediapipe-main (1)\\hand-gesture-recognition-mediapipe-main\\model\\keypoint_classifier\\keypoint_classifier.hdf5\n",
      "31/31 [==============================] - 0s 9ms/step - loss: 0.6439 - accuracy: 0.7707 - val_loss: 0.3051 - val_accuracy: 0.9466\n",
      "Epoch 152/1000\n",
      "24/31 [======================>.......] - ETA: 0s - loss: 0.6404 - accuracy: 0.7673\n",
      "Epoch 152: saving model to C:\\VS CODE\\computer vision\\openCV\\BasicManipulation\\OpenCv-projects\\pythonAutoGUI\\hand-gesture-recognition-mediapipe-main (1)\\hand-gesture-recognition-mediapipe-main\\model\\keypoint_classifier\\keypoint_classifier.hdf5\n",
      "31/31 [==============================] - 0s 11ms/step - loss: 0.6505 - accuracy: 0.7666 - val_loss: 0.3015 - val_accuracy: 0.9527\n",
      "Epoch 153/1000\n",
      "22/31 [====================>.........] - ETA: 0s - loss: 0.6139 - accuracy: 0.7781\n",
      "Epoch 153: saving model to C:\\VS CODE\\computer vision\\openCV\\BasicManipulation\\OpenCv-projects\\pythonAutoGUI\\hand-gesture-recognition-mediapipe-main (1)\\hand-gesture-recognition-mediapipe-main\\model\\keypoint_classifier\\keypoint_classifier.hdf5\n",
      "31/31 [==============================] - 0s 12ms/step - loss: 0.6247 - accuracy: 0.7778 - val_loss: 0.3022 - val_accuracy: 0.9482\n",
      "Epoch 154/1000\n",
      "22/31 [====================>.........] - ETA: 0s - loss: 0.6536 - accuracy: 0.7731\n",
      "Epoch 154: saving model to C:\\VS CODE\\computer vision\\openCV\\BasicManipulation\\OpenCv-projects\\pythonAutoGUI\\hand-gesture-recognition-mediapipe-main (1)\\hand-gesture-recognition-mediapipe-main\\model\\keypoint_classifier\\keypoint_classifier.hdf5\n",
      "31/31 [==============================] - 0s 11ms/step - loss: 0.6535 - accuracy: 0.7697 - val_loss: 0.2953 - val_accuracy: 0.9535\n",
      "Epoch 155/1000\n",
      "27/31 [=========================>....] - ETA: 0s - loss: 0.6300 - accuracy: 0.7723\n",
      "Epoch 155: saving model to C:\\VS CODE\\computer vision\\openCV\\BasicManipulation\\OpenCv-projects\\pythonAutoGUI\\hand-gesture-recognition-mediapipe-main (1)\\hand-gesture-recognition-mediapipe-main\\model\\keypoint_classifier\\keypoint_classifier.hdf5\n",
      "31/31 [==============================] - 0s 10ms/step - loss: 0.6415 - accuracy: 0.7664 - val_loss: 0.2961 - val_accuracy: 0.9543\n",
      "Epoch 156/1000\n",
      "28/31 [==========================>...] - ETA: 0s - loss: 0.6225 - accuracy: 0.7785\n",
      "Epoch 156: saving model to C:\\VS CODE\\computer vision\\openCV\\BasicManipulation\\OpenCv-projects\\pythonAutoGUI\\hand-gesture-recognition-mediapipe-main (1)\\hand-gesture-recognition-mediapipe-main\\model\\keypoint_classifier\\keypoint_classifier.hdf5\n",
      "31/31 [==============================] - 0s 9ms/step - loss: 0.6261 - accuracy: 0.7740 - val_loss: 0.2965 - val_accuracy: 0.9550\n",
      "Epoch 157/1000\n",
      "25/31 [=======================>......] - ETA: 0s - loss: 0.6361 - accuracy: 0.7731\n",
      "Epoch 157: saving model to C:\\VS CODE\\computer vision\\openCV\\BasicManipulation\\OpenCv-projects\\pythonAutoGUI\\hand-gesture-recognition-mediapipe-main (1)\\hand-gesture-recognition-mediapipe-main\\model\\keypoint_classifier\\keypoint_classifier.hdf5\n",
      "31/31 [==============================] - 0s 10ms/step - loss: 0.6422 - accuracy: 0.7682 - val_loss: 0.3014 - val_accuracy: 0.9604\n",
      "Epoch 158/1000\n",
      "30/31 [============================>.] - ETA: 0s - loss: 0.6332 - accuracy: 0.7701\n",
      "Epoch 158: saving model to C:\\VS CODE\\computer vision\\openCV\\BasicManipulation\\OpenCv-projects\\pythonAutoGUI\\hand-gesture-recognition-mediapipe-main (1)\\hand-gesture-recognition-mediapipe-main\\model\\keypoint_classifier\\keypoint_classifier.hdf5\n",
      "31/31 [==============================] - 0s 11ms/step - loss: 0.6297 - accuracy: 0.7717 - val_loss: 0.2995 - val_accuracy: 0.9512\n",
      "Epoch 159/1000\n",
      "31/31 [==============================] - ETA: 0s - loss: 0.6164 - accuracy: 0.7720\n",
      "Epoch 159: saving model to C:\\VS CODE\\computer vision\\openCV\\BasicManipulation\\OpenCv-projects\\pythonAutoGUI\\hand-gesture-recognition-mediapipe-main (1)\\hand-gesture-recognition-mediapipe-main\\model\\keypoint_classifier\\keypoint_classifier.hdf5\n",
      "31/31 [==============================] - 0s 10ms/step - loss: 0.6164 - accuracy: 0.7720 - val_loss: 0.2930 - val_accuracy: 0.9558\n",
      "Epoch 160/1000\n",
      "24/31 [======================>.......] - ETA: 0s - loss: 0.6469 - accuracy: 0.7712\n",
      "Epoch 160: saving model to C:\\VS CODE\\computer vision\\openCV\\BasicManipulation\\OpenCv-projects\\pythonAutoGUI\\hand-gesture-recognition-mediapipe-main (1)\\hand-gesture-recognition-mediapipe-main\\model\\keypoint_classifier\\keypoint_classifier.hdf5\n",
      "31/31 [==============================] - 0s 9ms/step - loss: 0.6337 - accuracy: 0.7776 - val_loss: 0.3039 - val_accuracy: 0.9459\n",
      "Epoch 161/1000\n",
      "26/31 [========================>.....] - ETA: 0s - loss: 0.6380 - accuracy: 0.7734\n",
      "Epoch 161: saving model to C:\\VS CODE\\computer vision\\openCV\\BasicManipulation\\OpenCv-projects\\pythonAutoGUI\\hand-gesture-recognition-mediapipe-main (1)\\hand-gesture-recognition-mediapipe-main\\model\\keypoint_classifier\\keypoint_classifier.hdf5\n",
      "31/31 [==============================] - 0s 10ms/step - loss: 0.6361 - accuracy: 0.7738 - val_loss: 0.2950 - val_accuracy: 0.9581\n",
      "Epoch 162/1000\n",
      "31/31 [==============================] - ETA: 0s - loss: 0.6298 - accuracy: 0.7768\n",
      "Epoch 162: saving model to C:\\VS CODE\\computer vision\\openCV\\BasicManipulation\\OpenCv-projects\\pythonAutoGUI\\hand-gesture-recognition-mediapipe-main (1)\\hand-gesture-recognition-mediapipe-main\\model\\keypoint_classifier\\keypoint_classifier.hdf5\n",
      "31/31 [==============================] - 0s 11ms/step - loss: 0.6298 - accuracy: 0.7768 - val_loss: 0.3077 - val_accuracy: 0.9466\n",
      "Epoch 163/1000\n",
      "26/31 [========================>.....] - ETA: 0s - loss: 0.6099 - accuracy: 0.7834\n",
      "Epoch 163: saving model to C:\\VS CODE\\computer vision\\openCV\\BasicManipulation\\OpenCv-projects\\pythonAutoGUI\\hand-gesture-recognition-mediapipe-main (1)\\hand-gesture-recognition-mediapipe-main\\model\\keypoint_classifier\\keypoint_classifier.hdf5\n",
      "31/31 [==============================] - 0s 10ms/step - loss: 0.6187 - accuracy: 0.7786 - val_loss: 0.3028 - val_accuracy: 0.9489\n",
      "Epoch 164/1000\n",
      "26/31 [========================>.....] - ETA: 0s - loss: 0.6260 - accuracy: 0.7755\n",
      "Epoch 164: saving model to C:\\VS CODE\\computer vision\\openCV\\BasicManipulation\\OpenCv-projects\\pythonAutoGUI\\hand-gesture-recognition-mediapipe-main (1)\\hand-gesture-recognition-mediapipe-main\\model\\keypoint_classifier\\keypoint_classifier.hdf5\n",
      "31/31 [==============================] - 0s 9ms/step - loss: 0.6331 - accuracy: 0.7776 - val_loss: 0.2975 - val_accuracy: 0.9550\n",
      "Epoch 164: early stopping\n"
     ]
    },
    {
     "data": {
      "text/plain": [
       "<keras.src.callbacks.History at 0x243fda0fb90>"
      ]
     },
     "execution_count": 11,
     "metadata": {},
     "output_type": "execute_result"
    }
   ],
   "source": [
    "model.fit(\n",
    "    X_train,\n",
    "    y_train,\n",
    "    epochs=1000,\n",
    "    batch_size=128,\n",
    "    validation_data=(X_test, y_test),\n",
    "    callbacks=[cp_callback, es_callback]\n",
    ")"
   ]
  },
  {
   "cell_type": "code",
   "execution_count": 12,
   "metadata": {},
   "outputs": [
    {
     "name": "stdout",
     "output_type": "stream",
     "text": [
      "11/11 [==============================] - 0s 4ms/step - loss: 0.2975 - accuracy: 0.9550\n"
     ]
    }
   ],
   "source": [
    "# モデル評価\n",
    "val_loss, val_acc = model.evaluate(X_test, y_test, batch_size=128)"
   ]
  },
  {
   "cell_type": "code",
   "execution_count": 13,
   "metadata": {},
   "outputs": [],
   "source": [
    "# 保存したモデルのロード\n",
    "model = tf.keras.models.load_model(model_save_path)"
   ]
  },
  {
   "cell_type": "code",
   "execution_count": 14,
   "metadata": {},
   "outputs": [
    {
     "name": "stdout",
     "output_type": "stream",
     "text": [
      "1/1 [==============================] - 0s 211ms/step\n",
      "[1.6759169e-04 9.9829358e-01 1.3771011e-03 7.6664692e-05 1.2118818e-07\n",
      " 1.6266446e-05 6.8724075e-05]\n",
      "1\n"
     ]
    }
   ],
   "source": [
    "# 推論テスト\n",
    "predict_result = model.predict(np.array([X_test[0]]))\n",
    "print(np.squeeze(predict_result))\n",
    "print(np.argmax(np.squeeze(predict_result)))"
   ]
  },
  {
   "cell_type": "markdown",
   "metadata": {},
   "source": [
    "# 混同行列"
   ]
  },
  {
   "cell_type": "code",
   "execution_count": 15,
   "metadata": {},
   "outputs": [
    {
     "name": "stdout",
     "output_type": "stream",
     "text": [
      "41/41 [==============================] - 0s 2ms/step\n"
     ]
    },
    {
     "data": {
      "image/png": "[encoded data removed]",
      "text/plain": [
       "<Figure size 700x600 with 2 Axes>"
      ]
     },
     "metadata": {},
     "output_type": "display_data"
    },
    {
     "name": "stdout",
     "output_type": "stream",
     "text": [
      "Classification Report\n",
      "              precision    recall  f1-score   support\n",
      "\n",
      "           0       0.98      0.99      0.99       413\n",
      "           1       0.96      0.92      0.94       378\n",
      "           2       0.92      0.99      0.95       320\n",
      "           3       1.00      0.97      0.98        88\n",
      "           4       1.00      0.95      0.97        41\n",
      "           5       0.86      1.00      0.92        55\n",
      "           6       0.00      0.00      0.00        17\n",
      "\n",
      "    accuracy                           0.96      1312\n",
      "   macro avg       0.82      0.83      0.82      1312\n",
      "weighted avg       0.94      0.96      0.95      1312\n",
      "\n"
     ]
    },
    {
     "name": "stderr",
     "output_type": "stream",
     "text": [
      "C:\\Users\\samma\\AppData\\Local\\Programs\\Python\\Python311\\Lib\\site-packages\\sklearn\\metrics\\_classification.py:1509: UndefinedMetricWarning: Precision is ill-defined and being set to 0.0 in labels with no predicted samples. Use `zero_division` parameter to control this behavior.\n",
      "  _warn_prf(average, modifier, f\"{metric.capitalize()} is\", len(result))\n",
      "C:\\Users\\samma\\AppData\\Local\\Programs\\Python\\Python311\\Lib\\site-packages\\sklearn\\metrics\\_classification.py:1509: UndefinedMetricWarning: Precision is ill-defined and being set to 0.0 in labels with no predicted samples. Use `zero_division` parameter to control this behavior.\n",
      "  _warn_prf(average, modifier, f\"{metric.capitalize()} is\", len(result))\n",
      "C:\\Users\\samma\\AppData\\Local\\Programs\\Python\\Python311\\Lib\\site-packages\\sklearn\\metrics\\_classification.py:1509: UndefinedMetricWarning: Precision is ill-defined and being set to 0.0 in labels with no predicted samples. Use `zero_division` parameter to control this behavior.\n",
      "  _warn_prf(average, modifier, f\"{metric.capitalize()} is\", len(result))\n"
     ]
    }
   ],
   "source": [
    "import pandas as pd\n",
    "import seaborn as sns\n",
    "import matplotlib.pyplot as plt\n",
    "from sklearn.metrics import confusion_matrix, classification_report\n",
    "\n",
    "def print_confusion_matrix(y_true, y_pred, report=True):\n",
    "    labels = sorted(list(set(y_true)))\n",
    "    cmx_data = confusion_matrix(y_true, y_pred, labels=labels)\n",
    "    \n",
    "    df_cmx = pd.DataFrame(cmx_data, index=labels, columns=labels)\n",
    " \n",
    "    fig, ax = plt.subplots(figsize=(7, 6))\n",
    "    sns.heatmap(df_cmx, annot=True, fmt='g' ,square=False)\n",
    "    ax.set_ylim(len(set(y_true)), 0)\n",
    "    plt.show()\n",
    "    \n",
    "    if report:\n",
    "        print('Classification Report')\n",
    "        print(classification_report(y_test, y_pred))\n",
    "\n",
    "Y_pred = model.predict(X_test)\n",
    "y_pred = np.argmax(Y_pred, axis=1)\n",
    "\n",
    "print_confusion_matrix(y_test, y_pred)"
   ]
  },
  {
   "cell_type": "markdown",
   "metadata": {},
   "source": [
    "# Tensorflow-Lite用のモデルへ変換"
   ]
  },
  {
   "cell_type": "code",
   "execution_count": 16,
   "metadata": {},
   "outputs": [
    {
     "name": "stderr",
     "output_type": "stream",
     "text": [
      "C:\\Users\\samma\\AppData\\Local\\Programs\\Python\\Python311\\Lib\\site-packages\\keras\\src\\engine\\training.py:3103: UserWarning: You are saving your model as an HDF5 file via `model.save()`. This file format is considered legacy. We recommend using instead the native Keras format, e.g. `model.save('my_model.keras')`.\n",
      "  saving_api.save_model(\n"
     ]
    }
   ],
   "source": [
    "# 推論専用のモデルとして保存\n",
    "model.save(model_save_path, include_optimizer=False)"
   ]
  },
  {
   "cell_type": "code",
   "execution_count": 17,
   "metadata": {},
   "outputs": [
    {
     "name": "stdout",
     "output_type": "stream",
     "text": [
      "INFO:tensorflow:Assets written to: C:\\Users\\samma\\AppData\\Local\\Temp\\tmpssb7fhok\\assets\n"
     ]
    },
    {
     "name": "stderr",
     "output_type": "stream",
     "text": [
      "INFO:tensorflow:Assets written to: C:\\Users\\samma\\AppData\\Local\\Temp\\tmpssb7fhok\\assets\n"
     ]
    },
    {
     "data": {
      "text/plain": [
       "6676"
      ]
     },
     "execution_count": 17,
     "metadata": {},
     "output_type": "execute_result"
    }
   ],
   "source": [
    "# モデルを変換(量子化)\n",
    "tflite_save_path = 'model/keypoint_classifier/keypoint_classifier.tflite'\n",
    "\n",
    "converter = tf.lite.TFLiteConverter.from_keras_model(model)\n",
    "converter.optimizations = [tf.lite.Optimize.DEFAULT]\n",
    "tflite_quantized_model = converter.convert()\n",
    "\n",
    "open(tflite_save_path, 'wb').write(tflite_quantized_model)"
   ]
  },
  {
   "cell_type": "markdown",
   "metadata": {},
   "source": [
    "# 推論テスト"
   ]
  },
  {
   "cell_type": "code",
   "execution_count": 18,
   "metadata": {},
   "outputs": [],
   "source": [
    "interpreter = tf.lite.Interpreter(model_path=tflite_save_path)\n",
    "interpreter.allocate_tensors()"
   ]
  },
  {
   "cell_type": "code",
   "execution_count": 19,
   "metadata": {},
   "outputs": [],
   "source": [
    "# 入出力テンソルを取得\n",
    "input_details = interpreter.get_input_details()\n",
    "output_details = interpreter.get_output_details()"
   ]
  },
  {
   "cell_type": "code",
   "execution_count": 20,
   "metadata": {},
   "outputs": [],
   "source": [
    "interpreter.set_tensor(input_details[0]['index'], np.array([X_test[0]]))"
   ]
  },
  {
   "cell_type": "code",
   "execution_count": 21,
   "metadata": {
    "scrolled": true
   },
   "outputs": [
    {
     "name": "stdout",
     "output_type": "stream",
     "text": [
      "CPU times: total: 0 ns\n",
      "Wall time: 0 ns\n"
     ]
    }
   ],
   "source": [
    "%%time\n",
    "# 推論実施\n",
    "interpreter.invoke()\n",
    "tflite_results = interpreter.get_tensor(output_details[0]['index'])"
   ]
  },
  {
   "cell_type": "code",
   "execution_count": 22,
   "metadata": {},
   "outputs": [
    {
     "name": "stdout",
     "output_type": "stream",
     "text": [
      "[1.6759198e-04 9.9829346e-01 1.3771041e-03 7.6664684e-05 1.2118817e-07\n",
      " 1.6266506e-05 6.8724265e-05]\n",
      "1\n"
     ]
    }
   ],
   "source": [
    "print(np.squeeze(tflite_results))\n",
    "print(np.argmax(np.squeeze(tflite_results)))"
   ]
  }
 ],
 "metadata": {
  "kernelspec": {
   "display_name": "Python 3 (ipykernel)",
   "language": "python",
   "name": "python3"
  },
  "language_info": {
   "codemirror_mode": {
    "name": "ipython",
    "version": 3
   },
   "file_extension": ".py",
   "mimetype": "text/x-python",
   "name": "python",
   "nbconvert_exporter": "python",
   "pygments_lexer": "ipython3",
   "version": "3.11.4"
  }
 },
 "nbformat": 4,
 "nbformat_minor": 4
}
